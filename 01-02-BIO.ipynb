{
 "cells": [
  {
   "cell_type": "markdown",
   "metadata": {},
   "source": [
    "![header](https://i.imgur.com/I4ake6d.jpg)"
   ]
  },
  {
   "cell_type": "markdown",
   "metadata": {},
   "source": [
    "# COPERNICUS MARINE BIO ASIA TRAINING\n",
    "\n",
    "<div style=\"text-align: right\"><i> 01-02-BIO </i></div>\n",
    "\n",
    "***\n",
    "\n",
    "<center><h1> How to visualize maps, sections and time evolution of nutrients, chlorophyll and CO2 in the Arabic Sea</h1></center>"
   ]
  },
  {
   "cell_type": "markdown",
   "metadata": {},
   "source": [
    "***\n",
    "**General Note 1**: Execute each cell through the <button class=\"btn btn-default btn-xs\"><i class=\"icon-play fa fa-play\"></i></button> button from the top MENU (or keyboard shortcut `Shift` + `Enter`).<br>\n",
    "<br>\n",
    "**General Note 2**: If, for any reason, the kernel is not working anymore, in the top MENU, click on the <button class=\"btn btn-default btn-xs\"><i class=\"fa fa-repeat icon-repeat\"></i></button> button. Then, in the top MENU, click on \"Cell\" and select \"Run All Above Selected Cell\".<br>\n",
    "***"
   ]
  },
  {
   "cell_type": "markdown",
   "metadata": {},
   "source": [
    "# Table of contents\n",
    "- [1. Introduction](#1.-Introduction)\n",
    "- [2. About the data](#2.-About-the-data)\n",
    "    - [2.1. Model description](#2.1.-Model-description)\n",
    "    - [2.2. Parameters used for downloading the data (Exercises 1 and 2)](#2.2.-Parameters-used-for-downloading-the-data-(Exercises-1-and-2))\n",
    "    - [2.3. Parameters used for downloading the data (Exercise 3)](#2.3.-Parameters-used-for-downloading-the-data-(Exercise-3))\n",
    "    - [2.4. How to download the products?](#2.4.-How-to-download-the-products?)\n",
    "- [3. Exercise n.1: Plot of maps](#3.-Exercise-n.1:-Plot-of-maps)\n",
    "    - [3.1. Required modules](#3.1.-Required-modules)\n",
    "    - [3.2. Import the modules](#3.2.-Import-the-modules)\n",
    "    - [3.3. Access the data](#3.3.-Access-the-data)\n",
    "    - [3.4. Set the configuration](#3.4.-Set-the-configuration)\n",
    "    - [3.5. Generate the map of surface chlorophyll for a winter month in the Arabian Sea](#3.5.-Generate-the-map-of-surface-chlorophyll-for-a-winter-month-in-the-Arabian-Sea)\n",
    "        - [3.5.1. Configure the variables for the plots](#3.5.1.-Configure-the-variables-for-the-plots)\n",
    "        - [3.5.2. Plot the variables](#3.5.2.-Plot-the-variables)\n",
    "    - [3.6. Generate the map of surface chlorophyll for a summer month in the Arabian Sea](#3.6.-Generate-the-map-of-surface-chlorophyll-for-a-summer-month-in-the-Arabian-Sea)\n",
    "    - [3.7. Generate the map of nitrates in summer](#3.7.-Generate-the-map-of-nitrates-in-summer)\n",
    "        - [3.7.1. Configure the variables for the plot](#3.7.1.-Configure-the-variables-for-the-plot)\n",
    "        - [3.7.2. Plot the variable](#3.7.2.-Plot-the-variable)\n",
    "- [4. Exercise n.2: Plot of transects](#4.-Exercise-n.2:-Plot-of-transects)\n",
    "    - [4.1. Extract data for a given latitude value](#4.1.-Extract-data-for-a-given-latitude-value)\n",
    "    - [4.2. Configure the plot](#4.2.-Configure-the-plot)\n",
    "    - [4.3. Plot a transect of nitrate](#4.3.-Plot-a-transect-of-nitrate)\n",
    "    - [4.4. Plot a transect of oxygen](#4.4.-Plot-a-transect-of-oxygen)\n",
    "- [5. Exercise n.3: Temporal evolution](#5.-Exercise-n.3:-Temporal-evolution)\n",
    "    - [5.1. Access the data](#5.1.-Access-the-data)\n",
    "    - [5.2. Set the configuration](#5.2.-Set-the-configuration)\n",
    "    - [5.3. Generate the temporal evolution plot for chlorophyll - Hovmöller diagram (lat/time)](#5.3.-Generate-the-temporal-evolution-plot-for-chlorophyll---Hovmöller-diagram-(lat/time))\n",
    "        - [5.3.1. Configure the variables for the plots](#5.3.1.-Configure-the-variables-for-the-plots)\n",
    "        - [5.3.2. Plot the variables](#5.3.2.-Plot-the-variables)\n",
    "- [6. Conclusion](#6.-Conclusion)\n",
    "***"
   ]
  },
  {
   "cell_type": "markdown",
   "metadata": {},
   "source": [
    "# 1. Introduction"
   ]
  },
  {
   "cell_type": "markdown",
   "metadata": {},
   "source": [
    "[Go back to the \"Table of contents\"](#Table-of-contents)"
   ]
  },
  {
   "cell_type": "markdown",
   "metadata": {},
   "source": [
    "The objective of this exercise is to use the Copernicus Marine (CMEMS) BIOgeochemical products to visualize some typical biogeochemical features in the Arabian Sea and in the North West Pacific.\n",
    "\n",
    "In particular, you will display:\n",
    " \n",
    "- typical winter and summer maps of chlorophyll and nitrate showing the effect of the monsoons\n",
    "- some vertical sections across the Arabian Sea reporting typical distribution of nutrients and oxygen\n",
    "- a time evolution of chlorophyll concentration in the North-West Pacific\n",
    "\n",
    "This exercise uses the same location and temporal frames of the [PHY exercise](../01%20Jupyter%20Notebook%20-%20PHY%20Model%20Products/01-01-PHY-maps-computedensity-verticalsection-transect.ipynb). Thus, by combining results from CMEMS PHY and BIO products, you can analyze the interconnection of physical and biogeochemical dynamics in different areas, such as:\n",
    "- the impact of water confinement on spatial gradient of nutrients \n",
    "- the effect on winter vertical mixing and summer stratification on vertical distribution of biogeochemical variables\n",
    "\n",
    "***"
   ]
  },
  {
   "cell_type": "markdown",
   "metadata": {},
   "source": [
    "# 2. About the data"
   ]
  },
  {
   "cell_type": "markdown",
   "metadata": {},
   "source": [
    "[Go back to the \"Table of contents\"](#Table-of-contents)"
   ]
  },
  {
   "cell_type": "markdown",
   "metadata": {},
   "source": [
    "## 2.1. Model description\n",
    "\n",
    "### This example is based on the product: [GLOBAL_ANALYSIS_FORECAST_BIO_001_028](https://resources.marine.copernicus.eu/?option=com_csw&view=details&product_id=GLOBAL_ANALYSIS_FORECAST_BIO_001_028)"
   ]
  },
  {
   "cell_type": "markdown",
   "metadata": {},
   "source": [
    "The Operational Mercator Ocean biogeochemical global ocean analysis and forecast system at 1/4 degree is providing 10 days of 3D global ocean forecasts updated weekly. The time series is aggregated in time, in order to reach a two full year’s time series sliding window. This product includes daily and monthly mean files of biogeochemical parameters (chlorophyll, nitrate, phosphate, silicate, dissolved oxygen, dissolved iron, primary production, phytoplankton, PH, and surface partial pressure of carbon dioxyde) over the global ocean. The global ocean output files are displayed with a 1/4 degree horizontal resolution with regular longitude/latitude equirectangular projection. 50 vertical levels are ranging from 0 to 5700 meters.\n",
    "\n",
    "<img src=\"./img/GLOBAL_ANALYSIS_FORECAST_BIO_001_028.png\">"
   ]
  },
  {
   "cell_type": "markdown",
   "metadata": {},
   "source": [
    "## Get more info on the product\n",
    "1. You can find more info on this product and access to the download services in the [dedicated Product Page on Copernicus Marine (CMEMS) Web portal](https://resources.marine.copernicus.eu/?option=com_csw&view=details&product_id=GLOBAL_ANALYSIS_FORECAST_BIO_001_028)\n",
    "<br><br>\n",
    "2. For detailed information about the product, please consult the document: [Product User Manual (PUM)](./docs/PUM/CMEMS-GLO-PUM-001-028.pdf)\n",
    "<br><br>\n",
    "3. For information about the quality of the product, please consult the document: [Quality Information Document (QUID)](./docs/QUID/CMEMS-GLO-QUID-001-028.pdf)"
   ]
  },
  {
   "cell_type": "markdown",
   "metadata": {},
   "source": [
    "## 2.2. Parameters used for downloading the data (Exercises 1 and 2)\n",
    "[Go back to the \"Table of contents\"](#Table-of-contents)\n",
    "\n",
    "| Parameter | Value |\n",
    "| :---: | :---|\n",
    "| **Product** | GLOBAL_ANALYSIS_FORECAST_BIO_001_028 |\n",
    "| **Dataset** | global_analysis_forecast_bio_001_028_monthly |\n",
    "| **Frequency** | monthly |\n",
    "| **Lat min** | 10.0 |\n",
    "| **Lat max** | 25.0 |\n",
    "| **Lon min** | 50.0 |\n",
    "| **Lon max** | 75.0 | \n",
    "| **Timesteps** | 2019-02-15, 2019-08-16 |\n",
    "| **Variables** | chl, no3, po4, o2 |\n",
    "| **Service for downloading** | FTP |\n",
    "| **Files total dimension** | ~30 MB |\n",
    "| **Final filename** | global-analysis-forecast-bio-001-028-monthly_ex1_and_2.nc |\n",
    "\n",
    "***"
   ]
  },
  {
   "cell_type": "markdown",
   "metadata": {},
   "source": [
    "## 2.3. Parameters used for downloading the data (Exercise 3)\n",
    "[Go back to the \"Table of contents\"](#Table-of-contents)\n",
    "\n",
    "| Parameter | Value |\n",
    "| :---: | :---|\n",
    "| **Product** | GLOBAL_ANALYSIS_FORECAST_BIO_001_028 |\n",
    "| **Dataset** | global_analysis_forecast_bio_001_028_monthly |\n",
    "| **Frequency** | monthly |\n",
    "| **Lat min** | 25.0 |\n",
    "| **Lat max** | 40.0 |\n",
    "| **Lon min** | 130.0 |\n",
    "| **Lon max** | 180.0 | \n",
    "| **Timesteps** | 2019-01-01, 2020-12-31 |\n",
    "| **Variables** | chl |\n",
    "| **Service for downloading** | FTP |\n",
    "| **Files total dimension** | ~1 MB |\n",
    "| **Final filename** | global-analysis-forecast-bio-001-028-monthly_ex3.nc |\n",
    "\n",
    "***"
   ]
  },
  {
   "cell_type": "markdown",
   "metadata": {},
   "source": [
    "## 2.4. How to download the products?\n",
    "[Go back to the \"Table of contents\"](#Table-of-contents)\n",
    "\n",
    "If you need some help about the different services for downloading the CMEMS products, please check this [tutorial](\n",
    "https://marine.copernicus.eu/tutorials/how-to-download-products-service-release-septembre-2015/)"
   ]
  },
  {
   "cell_type": "markdown",
   "metadata": {},
   "source": [
    "<div class=\"alert alert-block alert-warning\">\n",
    "    <b>Get the CMEMS User credentials</b>\n",
    "<hr>\n",
    "The data are already available on this notebook. But if you want to download the data by yourself, please be sure to have by your CMEMS User credentials. Otherwise please get them <a href=\"http://marine.copernicus.eu/services-portfolio/register-now/\" target=\"_blank\">here</a>."
   ]
  },
  {
   "cell_type": "markdown",
   "metadata": {},
   "source": [
    "## Download with *motuclient*"
   ]
  },
  {
   "cell_type": "markdown",
   "metadata": {},
   "source": [
    "Data can be alternatively downloaded with **motuclient**, a multiplatform python script to automate extraction of information from the Marine Copernicus portal. To install motuclient:\n",
    "\n",
    "```\n",
    "!pip install motuclient\n",
    "```"
   ]
  },
  {
   "cell_type": "code",
   "execution_count": null,
   "metadata": {},
   "outputs": [],
   "source": [
    "!pip install motuclient"
   ]
  },
  {
   "cell_type": "markdown",
   "metadata": {},
   "source": [
    "To get more info on motuclient visit the related web page.\n",
    "\n",
    "Using motuclient you'll be able to download data with the following command line. You have to copy this line to another cell for being execute (NOTE: don't forget to set username and password!):\n",
    "\n",
    "```\n",
    "!python -m motuclient --motu http://nrt.cmems-du.eu/motu-web/Motu --service-id GLOBAL_ANALYSIS_FORECAST_BIO_001_028-TDS --product-id global-analysis-forecast-bio-001-028-monthly --longitude-min 50 --longitude-max 75 --latitude-min 10 --latitude-max 25 --date-min \"2019-02-15 00:00:00\" --date-max \"2019-08-16 12:00:00\" --depth-min 0.493 --depth-max 5727.918 --variable chl --variable no3 --variable o2 --variable po4  --out-dir data --out-name global-analysis-forecast-bio-001-028-monthly_ex1_and_2.nc --user <USERNAME> --pwd <PASSWORD>\n",
    "```"
   ]
  },
  {
   "cell_type": "code",
   "execution_count": null,
   "metadata": {},
   "outputs": [],
   "source": []
  },
  {
   "cell_type": "markdown",
   "metadata": {},
   "source": [
    "and also:\n",
    "\n",
    "```\n",
    "!python -m motuclient --motu http://nrt.cmems-du.eu/motu-web/Motu --service-id GLOBAL_ANALYSIS_FORECAST_BIO_001_028-TDS --product-id global-analysis-forecast-bio-001-028-monthly --longitude-min 130 --longitude-max 180 --latitude-min 25 --latitude-max 40 --date-min \"2019-05-16 12:00:00\" --date-max \"2019-11-16 00:00:00\" --depth-min 0.493 --depth-max 0.4942 --variable chl --variable no3 --variable po4 --out-dir data --out-name global-analysis-forecast-bio-001-028-monthly_ex3.nc --user <USERNAME> --pwd <PASSWORD> \n",
    "```"
   ]
  },
  {
   "cell_type": "code",
   "execution_count": null,
   "metadata": {},
   "outputs": [],
   "source": []
  },
  {
   "cell_type": "markdown",
   "metadata": {},
   "source": [
    "Check if the file has been created:"
   ]
  },
  {
   "cell_type": "code",
   "execution_count": null,
   "metadata": {},
   "outputs": [],
   "source": [
    "import os\n",
    "for filename in os.listdir('data'):\n",
    "    if filename.endswith(\".nc\"):\n",
    "        print(filename)"
   ]
  },
  {
   "cell_type": "code",
   "execution_count": null,
   "metadata": {},
   "outputs": [],
   "source": []
  },
  {
   "cell_type": "markdown",
   "metadata": {},
   "source": [
    "# 3. Exercise n.1: Plot of maps"
   ]
  },
  {
   "cell_type": "markdown",
   "metadata": {},
   "source": [
    "[Go back to the \"Table of contents\"](#Table-of-contents)"
   ]
  },
  {
   "cell_type": "markdown",
   "metadata": {},
   "source": [
    "## 3.1. Required modules"
   ]
  },
  {
   "cell_type": "markdown",
   "metadata": {},
   "source": [
    "| Module name | Description |\n",
    "| :---: | :---|\n",
    "| **os** | [ Miscellaneous operating system interfaces](https://docs.python.org/3.7/library/os.html) for managing paths, creating directories,... |\n",
    "| **datetime** | [Classes for manipulating dates and times](https://docs.python.org/3/library/datetime.html) |\n",
    "| **numpy** | [NumPy](https://numpy.org/) is the fundamental package for scientific computing with Python and for managing ND-arrays |\n",
    "| **xarray** | [Xarray](http://xarray.pydata.org/en/stable/) introduces labels in the form of dimensions, coordinates and attributes on top of raw NumPy-like arrays, which allows for a more intuitive, more concise, and less error-prone developer experience |\n",
    "| **matplotlib** |[Matplotlib](https://matplotlib.org/) is a Python 2D plotting library which produces publication quality figures |\n",
    "| **basemap** |[The matplotlib basemap toolkit](https://matplotlib.org/basemap/) is a library for plotting 2D data on maps in Python |"
   ]
  },
  {
   "cell_type": "markdown",
   "metadata": {},
   "source": [
    "### Install the needed Python modules (for local installation, can be skipped during Training)"
   ]
  },
  {
   "cell_type": "markdown",
   "metadata": {},
   "source": [
    "**Requirement: Python version 3.7.3**"
   ]
  },
  {
   "cell_type": "markdown",
   "metadata": {},
   "source": [
    "Check your Python version:"
   ]
  },
  {
   "cell_type": "code",
   "execution_count": null,
   "metadata": {},
   "outputs": [],
   "source": [
    "!python --version"
   ]
  },
  {
   "cell_type": "markdown",
   "metadata": {},
   "source": [
    "If needed you can install the right Python version in this way:\n",
    "```\n",
    "conda install python=3.7.3\n",
    "```"
   ]
  },
  {
   "cell_type": "code",
   "execution_count": null,
   "metadata": {},
   "outputs": [],
   "source": []
  },
  {
   "cell_type": "markdown",
   "metadata": {},
   "source": [
    "If you are using the standard *Anaconda3* installation, you can install the needed modules executing the following command in the following cell:\n",
    "```\n",
    "conda install numpy xarray matplotlib basemap netcdf4 basemap-data-hires -y\n",
    "```"
   ]
  },
  {
   "cell_type": "code",
   "execution_count": null,
   "metadata": {},
   "outputs": [],
   "source": []
  },
  {
   "cell_type": "markdown",
   "metadata": {},
   "source": [
    "## 3.2. Import the modules\n",
    "[Go back to the \"Table of contents\"](#Table-of-contents)"
   ]
  },
  {
   "cell_type": "markdown",
   "metadata": {},
   "source": [
    "To avoid the warning messages during the execution and installation process, at first remove them:"
   ]
  },
  {
   "cell_type": "code",
   "execution_count": null,
   "metadata": {},
   "outputs": [],
   "source": [
    "import warnings\n",
    "warnings.filterwarnings('ignore')"
   ]
  },
  {
   "cell_type": "code",
   "execution_count": null,
   "metadata": {},
   "outputs": [],
   "source": [
    "import os\n",
    "import datetime\n",
    "import numpy as np\n",
    "import xarray as xr\n",
    "import matplotlib.pyplot as plt\n",
    "from mpl_toolkits.basemap import Basemap"
   ]
  },
  {
   "cell_type": "markdown",
   "metadata": {},
   "source": [
    "*Don't change the following constants, which define the training and the notebook codes*:"
   ]
  },
  {
   "cell_type": "code",
   "execution_count": null,
   "metadata": {},
   "outputs": [],
   "source": [
    "REGION_CODE = \"01\"\n",
    "NB_CODE = \"02\""
   ]
  },
  {
   "cell_type": "markdown",
   "metadata": {},
   "source": [
    "**checkDir**: function for creating a path, if needed"
   ]
  },
  {
   "cell_type": "code",
   "execution_count": null,
   "metadata": {},
   "outputs": [],
   "source": [
    "def checkDir(outPath):\n",
    "    if not os.path.exists(outPath):\n",
    "        os.makedirs(outPath)"
   ]
  },
  {
   "cell_type": "markdown",
   "metadata": {},
   "source": [
    "**getRangeIndexes**: function for getting the indexes of the array *arr* between the *var_min* and *var_max* values:"
   ]
  },
  {
   "cell_type": "code",
   "execution_count": null,
   "metadata": {},
   "outputs": [],
   "source": [
    "def getRangeIndexes(arr, var_min, var_max):\n",
    "    return np.where((arr >= var_min) & (arr <= var_max))[0]"
   ]
  },
  {
   "cell_type": "markdown",
   "metadata": {},
   "source": [
    "Set the paths:"
   ]
  },
  {
   "cell_type": "code",
   "execution_count": null,
   "metadata": {},
   "outputs": [],
   "source": [
    "# Path for netcdf files\n",
    "data_path = './data'\n",
    "# Path for the output files (images, etc)\n",
    "out_path = './out/'+REGION_CODE+'-'+NB_CODE"
   ]
  },
  {
   "cell_type": "code",
   "execution_count": null,
   "metadata": {},
   "outputs": [],
   "source": [
    "# Create directories\n",
    "checkDir(data_path)\n",
    "checkDir(out_path)"
   ]
  },
  {
   "cell_type": "markdown",
   "metadata": {},
   "source": [
    "Check if the new directories have been created... "
   ]
  },
  {
   "cell_type": "code",
   "execution_count": null,
   "metadata": {},
   "outputs": [],
   "source": [
    "for filename in os.listdir('.'):\n",
    "    print(filename)"
   ]
  },
  {
   "cell_type": "markdown",
   "metadata": {},
   "source": [
    "... and if the data files are available:"
   ]
  },
  {
   "cell_type": "code",
   "execution_count": null,
   "metadata": {},
   "outputs": [],
   "source": [
    "for filename in os.listdir(data_path):\n",
    "    print(filename)"
   ]
  },
  {
   "cell_type": "markdown",
   "metadata": {},
   "source": [
    "## 3.3. Access the data\n",
    "[Go back to the \"Table of contents\"](#Table-of-contents)"
   ]
  },
  {
   "cell_type": "code",
   "execution_count": null,
   "metadata": {},
   "outputs": [],
   "source": [
    "# Input netcdf file name\n",
    "nc = os.path.join(data_path, \"global-analysis-forecast-bio-001-028-monthly_ex1_and_2.nc\")\n",
    "\n",
    "# open the dataset\n",
    "ds = xr.open_dataset(nc)"
   ]
  },
  {
   "cell_type": "markdown",
   "metadata": {},
   "source": [
    "### Get info about the dataset:"
   ]
  },
  {
   "cell_type": "code",
   "execution_count": null,
   "metadata": {},
   "outputs": [],
   "source": [
    "ds.info"
   ]
  },
  {
   "cell_type": "markdown",
   "metadata": {},
   "source": [
    "And about the variables:"
   ]
  },
  {
   "cell_type": "code",
   "execution_count": null,
   "metadata": {},
   "outputs": [],
   "source": [
    "ds.data_vars"
   ]
  },
  {
   "cell_type": "markdown",
   "metadata": {},
   "source": [
    "... and the coordinates:"
   ]
  },
  {
   "cell_type": "code",
   "execution_count": null,
   "metadata": {},
   "outputs": [],
   "source": [
    "ds.coords"
   ]
  },
  {
   "cell_type": "markdown",
   "metadata": {},
   "source": [
    "<div class=\"alert alert-block alert-warning\">\n",
    "    \n",
    "**The dataset is 3D! You have depth levels!**\n",
    "\n",
    "The xarray dataset ***ds*** is extracted from the dataset ***global-analysis-forecast-bio-001-028-monthly***  which is a **3D dataset**        "
   ]
  },
  {
   "cell_type": "markdown",
   "metadata": {},
   "source": [
    "Try to check the depth levels. Type ```ds.depth``` in the cell below and execute it:"
   ]
  },
  {
   "cell_type": "code",
   "execution_count": null,
   "metadata": {},
   "outputs": [],
   "source": [
    "ds.depth"
   ]
  },
  {
   "cell_type": "markdown",
   "metadata": {},
   "source": [
    "## 3.4. Set the configuration\n",
    "[Go back to the \"Table of contents\"](#Table-of-contents)"
   ]
  },
  {
   "cell_type": "markdown",
   "metadata": {},
   "source": [
    "Let's check the coordinates names in the cells above (check the ***ds.coords*** outputs) and set the correct variables below:"
   ]
  },
  {
   "cell_type": "code",
   "execution_count": null,
   "metadata": {},
   "outputs": [],
   "source": [
    "# Set the coordinate names (used later for accessing the data)\n",
    "lon_name = \"longitude\"\n",
    "lat_name = \"latitude\"\n",
    "time_name = \"time\"\n",
    "depth_name = \"depth\""
   ]
  },
  {
   "cell_type": "markdown",
   "metadata": {},
   "source": [
    "Do the same for the variables names (check the ***ds.data_vars*** outputs): "
   ]
  },
  {
   "cell_type": "code",
   "execution_count": null,
   "metadata": {},
   "outputs": [],
   "source": [
    "# Set the variable names\n",
    "\n",
    "# mass_concentration_of_chlorophyll_a_in_sea_water (CHL)\n",
    "chl_name = \"chl\"\n",
    "\n",
    "# mole_concentration_of_nitrate_in_sea_water (NO3)\n",
    "no3_name = \"no3\"\n",
    "\n",
    "# mole_concentration_of_phosphate_in_sea_water (PO4)\n",
    "po4_name = \"po4\"\n",
    "\n",
    "# mole_concentration_of_dissolved_oxygen_in_sea_water (O2)\n",
    "o2_name = \"o2\""
   ]
  },
  {
   "cell_type": "markdown",
   "metadata": {},
   "source": [
    "## 3.5. Generate the map of surface chlorophyll for a winter month in the Arabian Sea"
   ]
  },
  {
   "cell_type": "markdown",
   "metadata": {},
   "source": [
    "### 3.5.1. Configure the variables for the plots\n",
    "[Go back to the \"Table of contents\"](#Table-of-contents)"
   ]
  },
  {
   "cell_type": "code",
   "execution_count": null,
   "metadata": {},
   "outputs": [],
   "source": [
    "# --- Choose the variable to plot\n",
    "var_sel = ds[chl_name]\n",
    "\n",
    "dataset_3D = False\n",
    "if depth_name in var_sel.coords:\n",
    "    dataset_3D = True\n",
    "\n",
    "# --- Set up the arrays of coordinates for the selected dataset ---\n",
    "lats = var_sel[lat_name]\n",
    "lons = var_sel[lon_name]\n",
    "times = var_sel[time_name]\n",
    "depths = var_sel[depth_name]\n",
    "\n",
    "\n",
    "# --- Set the area: choose the min and max values for the coordinates ---\n",
    "# (and comment with the symbol # the unnecessary ones!):                                                               \n",
    "                                                                 \n",
    "## Set lat-lon limits - CUSTOM\n",
    "#lon_min = 55\n",
    "#lon_max = 65\n",
    "#lat_min = 15\n",
    "#lat_max = 20\n",
    "\n",
    "# Set lat-lon limits - FULL AREA\n",
    "lat_min = lats.min()\n",
    "lat_max = lats.max()\n",
    "lon_min = lons.min()\n",
    "lon_max = lons.max()\n",
    "\n",
    "# Set the variable min and max values for the plot and the colorbar (otherwise assign None):\n",
    "min_value, max_value = None, None\n",
    "#min_value, max_value = 0, 0.10\n",
    "#min_value, max_value = 0, 12\n",
    "\n",
    "# Set the desired depth in meters\n",
    "d = 0"
   ]
  },
  {
   "cell_type": "markdown",
   "metadata": {},
   "source": [
    "### 3.5.2. Plot the variables\n",
    "[Go back to the \"Table of contents\"](#Table-of-contents)"
   ]
  },
  {
   "cell_type": "code",
   "execution_count": null,
   "metadata": {},
   "outputs": [],
   "source": [
    "# index for the ds arrays\n",
    "# 0 = Feb, 1 = Mar, 2 = Apr, 3 = May, 4 = Jun, 5 = Jul, 6 = Aug\n",
    "j = 0\n",
    "\n",
    "# Plot configuration\n",
    "width_inch = 16\n",
    "height_inch = 8\n",
    "\n",
    "# Map configuration\n",
    "map_config = { \n",
    "#     \"projection\": \"merc\",\n",
    "    \"llcrnrlat\": lat_min,\n",
    "    \"llcrnrlon\": lon_min,\n",
    "    \"urcrnrlat\": lat_max,\n",
    "    \"urcrnrlon\": lon_max,\n",
    "    \"resolution\": 'i',\n",
    "    \"epsg\": 4326\n",
    "}\n",
    "\n",
    "# Axes labels\n",
    "fontsize = 14\n",
    "xlabel = 'longitude [deg]'\n",
    "ylabel = 'latitude [deg]'\n",
    "xlabelpad = 30\n",
    "ylabelpad = 60\n",
    "\n",
    "# Colorbar configuration\n",
    "cmap = \"jet\"\n",
    "cbar_position = \"right\"\n",
    "\n",
    "title_fontstyle = {\n",
    "    \"fontsize\": \"14\",\n",
    "    \"fontstyle\": \"italic\",\n",
    "    \"fontweight\": \"bold\",\n",
    "    \"pad\": 30\n",
    "}\n",
    "\n",
    "label_fontstyle = {\n",
    "    \"fontsize\": \"12\",\n",
    "    \"labelpad\": 30\n",
    "}\n",
    "\n",
    "# Set the coordinates indexes\n",
    "lat_indexes = getRangeIndexes(lats, lat_min, lat_max)\n",
    "lon_indexes = getRangeIndexes(lons, lon_min, lon_max)\n",
    "time_indexes = [0]\n",
    "depth_indexes = [0]\n",
    "\n",
    "# Get the selected coordinates:\n",
    "lats_sel = lats[lat_indexes]\n",
    "lons_sel = lons[lon_indexes]\n",
    "\n",
    "data = var_sel[j][:, lat_indexes, lon_indexes].sel(depth=d, method='nearest')\n",
    "\n",
    "plt.figure(figsize=(width_inch, height_inch))\n",
    "\n",
    "map = Basemap(**map_config)\n",
    "\n",
    "## contour fill\n",
    "min_value = data.min() if min_value is None else min_value\n",
    "max_value = data.max() if max_value is None else max_value\n",
    "step_value = 0.5\n",
    "contour_levels = np.arange(min_value, max_value, step_value)\n",
    "# map.contourf(xx, yy, data, contour_levels, cmap=cmap)\n",
    "\n",
    "## pcolormesh\n",
    "x = np.linspace(0, map.urcrnrx, data.shape[1])\n",
    "y = np.linspace(0, map.urcrnry, data.shape[0])\n",
    "    \n",
    "xx, yy = np.meshgrid(lons_sel, lats_sel)\n",
    "    \n",
    "#     colormesh = map.pcolormesh(xx, yy, data, cmap=cmap)\n",
    "colormesh = map.pcolormesh(xx, yy, data, vmin=min_value, vmax=max_value, cmap=cmap)\n",
    "    \n",
    "## draw meridians and parallels\n",
    "step_lat = float((lat_max - lat_min) / 5)\n",
    "step_lon = float((lon_max - lon_min) / 5)\n",
    "\n",
    "parallels = np.arange(lat_min, lat_max, step_lat)\n",
    "meridians = np.arange(lon_min, lon_max, step_lon) \n",
    "\n",
    "map.drawmeridians(meridians, labels=[0,0,0,1], fmt=\"%2.1f\")\n",
    "map.drawparallels(parallels, labels=[1,0,0,0], fmt=\"%2.1f\")\n",
    "\n",
    "## draw colorbar\n",
    "map.colorbar(colormesh, cbar_position)\n",
    "\n",
    "## draw countries...\n",
    "map.drawcountries(linewidth=0.25, color='olive')\n",
    "map.fillcontinents(color='lightgray',lake_color='aqua')\n",
    "\n",
    "# get the date for the title\n",
    "refDateTime = str(var_sel[j].time.values)\n",
    "refDate = refDateTime.split(\"T\")[0]\n",
    "refDateOb = datetime.datetime.strptime(refDate, \"%Y-%m-%d\")\n",
    "monthName = refDateOb.strftime(\"%B\")\n",
    "\n",
    "# set title\n",
    "title_sel = data.long_name\n",
    "var_str = \"{} [{}]\".format(title_sel, data.units)\n",
    "\n",
    "if dataset_3D:\n",
    "    depth_str = \"{:.2f}{}\".format(float(data[depth_name]), \"[m]\")\n",
    "    title = ' - '.join((var_str, monthName, depth_str))\n",
    "else:\n",
    "    title = ' - '.join((var_str, monthName))\n",
    "\n",
    "## draw title and axes labels\n",
    "plt.title(title, **title_fontstyle)\n",
    "plt.xlabel(xlabel, labelpad=xlabelpad, fontsize=12)\n",
    "plt.ylabel(ylabel, labelpad=ylabelpad, fontsize=12)    \n",
    "\n",
    "# output file\n",
    "output_file = os.path.join(out_path,title.replace(' ','_')) + \".png\"\n",
    "\n",
    "# save the output file\n",
    "plt.savefig(output_file)\n",
    "\n",
    "# show the picture\n",
    "plt.show()\n",
    "plt.close()"
   ]
  },
  {
   "cell_type": "markdown",
   "metadata": {},
   "source": [
    "## 3.6. Generate the map of surface chlorophyll for a summer month in the Arabian Sea\n",
    "[Go back to the \"Table of contents\"](#Table-of-contents)"
   ]
  },
  {
   "cell_type": "code",
   "execution_count": null,
   "metadata": {},
   "outputs": [],
   "source": [
    "# Select a summer month\n",
    "# 0 = Feb, 1 = Mar, 2 = Apr, 3 = May, 4 = Jun, 5 = Jul, 6 = Aug\n",
    "j = 6\n",
    "\n",
    "# Extract that month data\n",
    "data = var_sel[j][:, lat_indexes, lon_indexes].sel(depth=d, method='nearest')\n",
    "\n",
    "plt.figure(figsize=(width_inch, height_inch))\n",
    "\n",
    "map = Basemap(**map_config)\n",
    "\n",
    "## contour fill\n",
    "min_value = data.min() if min_value is None else min_value\n",
    "max_value = data.max() if max_value is None else max_value\n",
    "step_value = 0.5\n",
    "contour_levels = np.arange(min_value, max_value, step_value)\n",
    "# map.contourf(xx, yy, data, contour_levels, cmap=cmap)\n",
    "\n",
    "## pcolormesh\n",
    "x = np.linspace(0, map.urcrnrx, data.shape[1])\n",
    "y = np.linspace(0, map.urcrnry, data.shape[0])\n",
    "  \n",
    "xx, yy = np.meshgrid(lons_sel, lats_sel)\n",
    "    \n",
    "#     colormesh = map.pcolormesh(xx, yy, data, cmap=cmap)\n",
    "colormesh = map.pcolormesh(xx, yy, data, vmin=min_value, vmax=max_value, cmap=cmap)\n",
    "    \n",
    "## draw meridians and parallels\n",
    "step_lat = float((lat_max - lat_min) / 5)\n",
    "step_lon = float((lon_max - lon_min) / 5)\n",
    "\n",
    "parallels = np.arange(lat_min, lat_max, step_lat)\n",
    "meridians = np.arange(lon_min, lon_max, step_lon) \n",
    "\n",
    "map.drawmeridians(meridians, labels=[0,0,0,1], fmt=\"%2.1f\")\n",
    "map.drawparallels(parallels, labels=[1,0,0,0], fmt=\"%2.1f\")\n",
    "\n",
    "## draw colorbar\n",
    "map.colorbar(colormesh, cbar_position)\n",
    "\n",
    "## draw countries...\n",
    "map.drawcountries(linewidth=0.25, color='olive')\n",
    "map.fillcontinents(color='lightgray',lake_color='aqua')\n",
    "\n",
    "# get the date for the title\n",
    "refDateTime = str(var_sel[j].time.values)\n",
    "refDate = refDateTime.split(\"T\")[0]\n",
    "refDateOb = datetime.datetime.strptime(refDate, \"%Y-%m-%d\")\n",
    "monthName = refDateOb.strftime(\"%B\")\n",
    "\n",
    "# set title\n",
    "title_sel = data.long_name\n",
    "var_str = \"{} [{}]\".format(title_sel, data.units)\n",
    "\n",
    "if dataset_3D:\n",
    "    depth_str = \"{:.2f}{}\".format(float(data[depth_name]), \"[m]\")\n",
    "    title = ' - '.join((var_str, monthName, depth_str))\n",
    "else:\n",
    "    title = ' - '.join((var_str, monthName))\n",
    "\n",
    "## draw title and axes labels\n",
    "plt.title(title, **title_fontstyle)\n",
    "plt.xlabel(xlabel, labelpad=xlabelpad, fontsize=12)\n",
    "plt.ylabel(ylabel, labelpad=ylabelpad, fontsize=12)    \n",
    "\n",
    "# output file\n",
    "output_file = os.path.join(out_path,title.replace(' ','_')) + \".png\"\n",
    "\n",
    "# save the output file\n",
    "plt.savefig(output_file)\n",
    "\n",
    "# show the picture\n",
    "plt.show()\n",
    "plt.close()"
   ]
  },
  {
   "cell_type": "markdown",
   "metadata": {},
   "source": [
    "###  What does the chlorophyll summer map show, compared to the winter one?\n",
    "\n",
    "The seasonal cycle of phytoplankton over the Arabian Sea is generally characterized by two blooms, one during the summer monsoon, the other one during the winter monsoon. \n",
    "\n",
    " - During summer (June to September), strong and humid southwesterly winds forming the tropospheric Findlater Jet flow over the Arabian Sea. This southwest monsoon (SWM) produces intense upwelling cells that develop along the coasts of Somalia and Oman and bring up nitrate. This drives the summer bloom of chlorophyll.\n",
    " - During boreal winter (November to mid-February), the northeast monsoon (NEM) is characterized by dry and cold continental northeasterly winds which drive convective mixing offshore in the northern and central Arabian Sea. This mixing induces an entrainment of nutrients in the euphotic layer triggering the winter bloom."
   ]
  },
  {
   "cell_type": "markdown",
   "metadata": {},
   "source": [
    "## 3.7. Generate the map of nitrates in summer"
   ]
  },
  {
   "cell_type": "markdown",
   "metadata": {},
   "source": [
    "### 3.7.1. Configure the variables for the plot\n",
    "[Go back to the \"Table of contents\"](#Table-of-contents)"
   ]
  },
  {
   "cell_type": "code",
   "execution_count": null,
   "metadata": {},
   "outputs": [],
   "source": [
    "# --- Choose the variable to plot\n",
    "var_sel = ds[no3_name]\n",
    "\n",
    "# --- Set the area: choose the min and max values for the coordinates ---\n",
    "# (and comment with the symbol # the unnecessary ones!):                                                               \n",
    "                                                                 \n",
    "## Set lat-lon limits - CUSTOM\n",
    "#lon_min = 55\n",
    "#lon_max = 65\n",
    "#lat_min = 15\n",
    "#lat_max = 20\n",
    "\n",
    "# Set lat-lon limits - FULL AREA\n",
    "lat_min = lats.min()\n",
    "lat_max = lats.max()\n",
    "lon_min = lons.min()\n",
    "lon_max = lons.max()\n",
    "\n",
    "# Set the variable min and max values for the plot and the colorbar (otherwise assign None):\n",
    "#min_value, max_value = None, None\n",
    "min_value, max_value = 0, 20\n",
    "\n",
    "# Set the desired depth in meters\n",
    "d = 0"
   ]
  },
  {
   "cell_type": "markdown",
   "metadata": {},
   "source": [
    "### 3.7.2. Plot the variable\n",
    "[Go back to the \"Table of contents\"](#Table-of-contents)"
   ]
  },
  {
   "cell_type": "code",
   "execution_count": null,
   "metadata": {},
   "outputs": [],
   "source": [
    "# Select a summer month \n",
    "# 0 = Feb, 1 = Mar, 2 = Apr, 3 = May, 4 = Jun, 5 = Jul, 6 = Aug\n",
    "j = 6\n",
    "\n",
    "# Extract that month data\n",
    "data = var_sel[j][:, lat_indexes, lon_indexes].sel(depth=d, method='nearest')\n",
    "\n",
    "plt.figure(figsize=(width_inch, height_inch))\n",
    "\n",
    "map = Basemap(**map_config)\n",
    "\n",
    "## contour fill\n",
    "min_value = data.min() if min_value is None else min_value\n",
    "max_value = data.max() if max_value is None else max_value\n",
    "step_value = 0.5\n",
    "contour_levels = np.arange(min_value, max_value, step_value)\n",
    "# map.contourf(xx, yy, data, contour_levels, cmap=cmap)\n",
    "\n",
    "## pcolormesh\n",
    "x = np.linspace(0, map.urcrnrx, data.shape[1])\n",
    "y = np.linspace(0, map.urcrnry, data.shape[0])\n",
    "  \n",
    "xx, yy = np.meshgrid(lons_sel, lats_sel)\n",
    "    \n",
    "#     colormesh = map.pcolormesh(xx, yy, data, cmap=cmap)\n",
    "colormesh = map.pcolormesh(xx, yy, data, vmin=min_value, vmax=max_value, cmap=cmap)\n",
    "    \n",
    "## draw meridians and parallels\n",
    "step_lat = float((lat_max - lat_min) / 5)\n",
    "step_lon = float((lon_max - lon_min) / 5)\n",
    "\n",
    "parallels = np.arange(lat_min, lat_max, step_lat)\n",
    "meridians = np.arange(lon_min, lon_max, step_lon) \n",
    "\n",
    "map.drawmeridians(meridians, labels=[0,0,0,1], fmt=\"%2.1f\")\n",
    "map.drawparallels(parallels, labels=[1,0,0,0], fmt=\"%2.1f\")\n",
    "\n",
    "## draw colorbar\n",
    "map.colorbar(colormesh, cbar_position)\n",
    "\n",
    "## draw countries...\n",
    "map.drawcountries(linewidth=0.25, color='olive')\n",
    "map.fillcontinents(color='lightgray',lake_color='aqua')\n",
    "\n",
    "# get the date for the title\n",
    "refDateTime = str(var_sel[j].time.values)\n",
    "refDate = refDateTime.split(\"T\")[0]\n",
    "refDateOb = datetime.datetime.strptime(refDate, \"%Y-%m-%d\")\n",
    "monthName = refDateOb.strftime(\"%B\")\n",
    "\n",
    "# set title\n",
    "title_sel = data.long_name\n",
    "var_str = \"{} [{}]\".format(title_sel, data.units)\n",
    "\n",
    "if dataset_3D:\n",
    "    depth_str = \"{:.2f}{}\".format(float(data[depth_name]), \"[m]\")\n",
    "    title = ' - '.join((var_str, monthName, depth_str))\n",
    "else:\n",
    "    title = ' - '.join((var_str, monthName))\n",
    "\n",
    "## draw title and axes labels\n",
    "plt.title(title, **title_fontstyle)\n",
    "plt.xlabel(xlabel, labelpad=xlabelpad, fontsize=12)\n",
    "plt.ylabel(ylabel, labelpad=ylabelpad, fontsize=12)    \n",
    "\n",
    "# output file\n",
    "output_file = os.path.join(out_path,title.replace(' ','_')) + \".png\"\n",
    "\n",
    "# save the output file\n",
    "plt.savefig(output_file)\n",
    "\n",
    "# show the picture\n",
    "plt.show()\n",
    "plt.close()"
   ]
  },
  {
   "cell_type": "markdown",
   "metadata": {},
   "source": [
    "<div class=\"alert alert-block alert-warning\">\n",
    "\n",
    "### LET'S TRY: Change the plot!\n",
    "\n",
    "If you want, you can change the above plot.\n",
    "\n",
    "For example, you could:\n",
    "- change the variable to plot\n",
    "- change the area\n",
    "- change the min/max values for the choosen variable\n",
    "- change the depth level (only for 3D datasets! ;))\n",
    "\n",
    "Go back to [3.7.1. Configure the variables for the plot](#3.7.1.-Configure-the-variables-for-the-plot) and then re-execute the cell for generating the plot. Try!"
   ]
  },
  {
   "cell_type": "markdown",
   "metadata": {},
   "source": [
    "***"
   ]
  },
  {
   "cell_type": "markdown",
   "metadata": {},
   "source": [
    "# 4. Exercise n.2: Plot of transects"
   ]
  },
  {
   "cell_type": "markdown",
   "metadata": {},
   "source": [
    "[Go back to the \"Table of contents\"](#Table-of-contents)"
   ]
  },
  {
   "cell_type": "markdown",
   "metadata": {},
   "source": [
    "## 4.1. Extract data for a given latitude value"
   ]
  },
  {
   "cell_type": "code",
   "execution_count": null,
   "metadata": {},
   "outputs": [],
   "source": [
    "# Set the coordinates min and max values\n",
    "depth_min = 0\n",
    "depth_max = 500 \n",
    "lat_point = 20\n",
    "lon_min = 50\n",
    "lon_max = 75\n",
    "\n",
    "# Set the indexes of coordinates\n",
    "depth_indexes = getRangeIndexes(depths, depth_min, depth_max) if dataset_3D else [0]\n",
    "lat_indexes = np.abs(lats-lat_point).argmin()\n",
    "lon_indexes = getRangeIndexes(lons, lon_min, lon_max)\n",
    "time_indexes = 0\n",
    "\n",
    "# Extract the coordinates subsets\n",
    "lons_sel = ds[lon_name][lon_indexes]\n",
    "lats_sel = ds[lat_name][lat_indexes]\n",
    "depths_sel = -ds[depth_name][depth_indexes] # note the minus '-ds'. Why?\n",
    "\n",
    "# Set the variables to plot\n",
    "CHL = ds[chl_name].sel(latitude=lat_point, method=\"nearest\").sel(depth=slice(depth_min, depth_max))\n",
    "PHO = ds[po4_name].sel(latitude=lat_point, method=\"nearest\").sel(depth=slice(depth_min, depth_max))\n",
    "NO3 = ds[no3_name].sel(latitude=lat_point, method=\"nearest\").sel(depth=slice(depth_min, depth_max))\n",
    "O2 = ds[o2_name].sel(latitude=lat_point, method=\"nearest\").sel(depth=slice(depth_min, depth_max))\n",
    "\n",
    "# Set the variable min and max values for the plot and the colorbar (otherwise assign None):\n",
    "min_value, max_value = None, None\n",
    "# min_value, max_value = 0, 250"
   ]
  },
  {
   "cell_type": "markdown",
   "metadata": {},
   "source": [
    "If you want to check a variable content, write its name in the cell below and press RUN (or shift-enter):"
   ]
  },
  {
   "cell_type": "code",
   "execution_count": null,
   "metadata": {},
   "outputs": [],
   "source": [
    "O2"
   ]
  },
  {
   "cell_type": "markdown",
   "metadata": {},
   "source": [
    "## 4.2. Configure the plot\n",
    "[Go back to the \"Table of contents\"](#Table-of-contents)"
   ]
  },
  {
   "cell_type": "code",
   "execution_count": null,
   "metadata": {},
   "outputs": [],
   "source": [
    "# Create the meshgrid for the plot \n",
    "X, Y = np.meshgrid(lons_sel, depths_sel)\n",
    "\n",
    "# Plot configuration\n",
    "width_inch = 14\n",
    "height_inch = 8\n",
    "\n",
    "# Axes labels\n",
    "fontsize = 14\n",
    "xlabel = \"longitude [degE]\"\n",
    "ylabel = \"depth [m]\"\n",
    "\n",
    "# Colorbar configuration\n",
    "cmap = \"jet\"\n",
    "cbar_position = \"right\"\n",
    "\n",
    "contour_levels = 100\n",
    "\n",
    "title_fontstyle = {\n",
    "    \"fontsize\": \"14\",\n",
    "    \"fontstyle\": \"italic\",\n",
    "    \"fontweight\": \"bold\",\n",
    "    \"pad\": 30\n",
    "}\n",
    "label_fontstyle = {\n",
    "    \"fontsize\": \"12\",\n",
    "#     \"labelpad\": 10\n",
    "}"
   ]
  },
  {
   "cell_type": "code",
   "execution_count": null,
   "metadata": {},
   "outputs": [],
   "source": [
    "# function for plotting the transect (it uses many \"hidden\" variables...)\n",
    "def plot_transect(data, min_value, max_value, step_value):\n",
    "    fig = plt.figure(figsize=(width_inch, height_inch))\n",
    "\n",
    "    # Get the timestep\n",
    "    timestep = np.datetime_as_string(data.time,'h')\n",
    "\n",
    "    # Create the meshgrid for the plot \n",
    "    xx, yy = np.meshgrid(lons_sel, depths_sel)\n",
    "\n",
    "    # set variable limits\n",
    "    min_value = data.min() if min_value is None else min_value\n",
    "    max_value = data.max() if max_value is None else max_value\n",
    "    contour_levels = np.arange(min_value, max_value, step_value)\n",
    "    \n",
    "    # contour fill\n",
    "    plt.contourf(xx, yy, data, contour_levels, cmap=cmap, vmin=min_value, vmax=max_value, extend='both')\n",
    "    \n",
    "    plt.grid()\n",
    "    plt.colorbar(extend='both')\n",
    "\n",
    "    title_sel = data.long_name\n",
    "    var_str = \"{} [{}]\".format(title_sel, data.units)\n",
    "    title = ' - '.join((var_str, timestep))\n",
    "\n",
    "    plt.title(title, **title_fontstyle)\n",
    "    plt.xlabel(xlabel, **label_fontstyle)\n",
    "    plt.ylabel(ylabel, **label_fontstyle)\n",
    "\n",
    "    # output file\n",
    "    output_file = os.path.join(out_path,title.replace(' ','_')) + \".png\"\n",
    "\n",
    "    # save the output file\n",
    "    plt.savefig(output_file)\n",
    "\n",
    "    plt.show()\n",
    "\n",
    "    plt.close()"
   ]
  },
  {
   "cell_type": "markdown",
   "metadata": {},
   "source": [
    "## 4.3. Plot a transect of nitrate\n",
    "[Go back to the \"Table of contents\"](#Table-of-contents)\n",
    "\n",
    "First, we plot nitrate selecting the min and max range and step value of colorbar"
   ]
  },
  {
   "cell_type": "code",
   "execution_count": null,
   "metadata": {},
   "outputs": [],
   "source": [
    "# select the month of interest\n",
    "# 0 = Feb, 1 = Mar, 2 = Apr, 3 = May, 4 = Jun, 5 = Jul, 6 = Aug\n",
    "j = 6\n",
    "\n",
    "# extract data for that month\n",
    "data = NO3[j]\n",
    "\n",
    "# plot the transect\n",
    "plot_transect(data, 0, 25, 0.1)"
   ]
  },
  {
   "cell_type": "markdown",
   "metadata": {},
   "source": [
    "### What does the nitrate section show?\n",
    "\n",
    "This nitrate section shows the inclination of the nitracline from east to west. This highlights the upwelling of nitrate along the coasts of Somalia and Oman (West of 60°E) in Summer (July and August). If you change the month, you will see that the nitracline deepens in the west of the basin. \n",
    "\n",
    "If you switch to the phosphate variable (another macro-nutrient limiting the primary production), you will see the same behaviour as with nitrate."
   ]
  },
  {
   "cell_type": "markdown",
   "metadata": {},
   "source": [
    "## 4.4. Plot a transect of oxygen\n",
    "[Go back to the \"Table of contents\"](#Table-of-contents)"
   ]
  },
  {
   "cell_type": "markdown",
   "metadata": {},
   "source": [
    "We plot here the same section in the Arabian Sea at 20° but for the oxygen variable. We see here a mixed layer of a few tens of meters of depth well oxygenated. Underneath (below the oxycline), there is a very thick Oxygen Minimum Zone (about 1000 m thick). You can see it in full if you increase maximum depth of the plot to 3000 m for example."
   ]
  },
  {
   "cell_type": "code",
   "execution_count": null,
   "metadata": {},
   "outputs": [],
   "source": [
    "# Select a summer month\n",
    "j = 6\n",
    "\n",
    "# Extract data for that month\n",
    "data = O2[j]\n",
    "\n",
    "# plot data\n",
    "plot_transect(data, 0, 250, 1)"
   ]
  },
  {
   "cell_type": "markdown",
   "metadata": {},
   "source": [
    "***"
   ]
  },
  {
   "cell_type": "markdown",
   "metadata": {},
   "source": [
    "# 5. Exercise n.3: Temporal evolution in the North-West Pacific Basin (in the area of the Kuroshio current)"
   ]
  },
  {
   "cell_type": "markdown",
   "metadata": {},
   "source": [
    "[Go back to the \"Table of contents\"](#Table-of-contents)"
   ]
  },
  {
   "cell_type": "markdown",
   "metadata": {},
   "source": [
    "## 5.1. Access the data"
   ]
  },
  {
   "cell_type": "code",
   "execution_count": null,
   "metadata": {},
   "outputs": [],
   "source": [
    "# Input netcdf file name\n",
    "nc = os.path.join(data_path, \"global-analysis-forecast-bio-001-028-monthly_ex3.nc\")\n",
    "\n",
    "# open the dataset\n",
    "ds = xr.open_dataset(nc)"
   ]
  },
  {
   "cell_type": "markdown",
   "metadata": {},
   "source": [
    "### Get info about the dataset:"
   ]
  },
  {
   "cell_type": "code",
   "execution_count": null,
   "metadata": {},
   "outputs": [],
   "source": [
    "ds.info"
   ]
  },
  {
   "cell_type": "code",
   "execution_count": null,
   "metadata": {},
   "outputs": [],
   "source": [
    "ds.data_vars"
   ]
  },
  {
   "cell_type": "code",
   "execution_count": null,
   "metadata": {},
   "outputs": [],
   "source": [
    "ds.coords"
   ]
  },
  {
   "cell_type": "markdown",
   "metadata": {},
   "source": [
    "## 5.2. Set the configuration\n",
    "[Go back to the \"Table of contents\"](#Table-of-contents)"
   ]
  },
  {
   "cell_type": "markdown",
   "metadata": {},
   "source": [
    "Let's check the coordinates names in the cells above (check the ***ds.coords*** outputs) and set the correct variables below:"
   ]
  },
  {
   "cell_type": "code",
   "execution_count": null,
   "metadata": {},
   "outputs": [],
   "source": [
    "# Set the coordinate names (used later for accessing the data)\n",
    "lon_name = \"longitude\"\n",
    "lat_name = \"latitude\"\n",
    "time_name = \"time\"\n",
    "depth_name = \"depth\""
   ]
  },
  {
   "cell_type": "markdown",
   "metadata": {},
   "source": [
    "Do the same for the variables names (check the ***ds.data_vars*** outputs): "
   ]
  },
  {
   "cell_type": "code",
   "execution_count": null,
   "metadata": {},
   "outputs": [],
   "source": [
    "# Set the variable names\n",
    "\n",
    "# mass_concentration_of_chlorophyll_a_in_sea_water (CHL)\n",
    "chl_name = \"chl\""
   ]
  },
  {
   "cell_type": "markdown",
   "metadata": {},
   "source": [
    "## 5.3. Generate the temporal evolution plot for chlorophyll - Hovmöller diagram (lat/time)"
   ]
  },
  {
   "cell_type": "markdown",
   "metadata": {},
   "source": [
    "### 5.3.1. Configure the variables for the plots\n",
    "[Go back to the \"Table of contents\"](#Table-of-contents)"
   ]
  },
  {
   "cell_type": "code",
   "execution_count": null,
   "metadata": {},
   "outputs": [],
   "source": [
    "# --- Choose the variable to plot\n",
    "var_sel = ds[chl_name]\n",
    "\n",
    "dataset_3D = False\n",
    "if depth_name in var_sel.coords:\n",
    "    dataset_3D = True\n",
    "\n",
    "# --- Set up the arrays of coordinates for the selected dataset ---\n",
    "lats = var_sel[lat_name]\n",
    "lons = var_sel[lon_name]\n",
    "times = var_sel[time_name]\n",
    "depths = var_sel[depth_name]\n",
    "\n",
    "# --- Set the area: choose the min and max values for the coordinates ---\n",
    "# (and comment with the symbol # the unnecessary ones!):                                                               \n",
    "                                                                 \n",
    "## Set lat-lon limits - CUSTOM\n",
    "#lon_min = 55\n",
    "#lon_max = 65\n",
    "#lat_min = 15\n",
    "#lat_max = 20\n",
    "\n",
    "# Set lat-lon limits - FULL AREA\n",
    "lat_min = lats.min()\n",
    "lat_max = lats.max()\n",
    "lon_min = lons.min()\n",
    "lon_max = lons.max()\n",
    "\n",
    "# Get the time limits\n",
    "time_min = times.min()\n",
    "time_max = times.max()\n",
    "\n",
    "# Set the variable min and max values for the plot and the colorbar (otherwise assign None):\n",
    "min_value, max_value = None, None\n",
    "#min_value, max_value = 0, 0.10\n",
    "#min_value, max_value = 0, 12\n",
    "\n",
    "# Set the desired depth in meters\n",
    "d = 0"
   ]
  },
  {
   "cell_type": "markdown",
   "metadata": {},
   "source": [
    "### 5.3.2. Plot the variables\n",
    "[Go back to the \"Table of contents\"](#Table-of-contents)"
   ]
  },
  {
   "cell_type": "code",
   "execution_count": null,
   "metadata": {},
   "outputs": [],
   "source": [
    "# Set the longitude of interest\n",
    "lon_sel = 170\n",
    "\n",
    "# Select data at the desired longitude\n",
    "data = var_sel.sel(longitude=lon_sel, method='nearest')[:, 0, :]"
   ]
  },
  {
   "cell_type": "code",
   "execution_count": null,
   "metadata": {},
   "outputs": [],
   "source": [
    "# Plot configuration\n",
    "width_inch = 16\n",
    "height_inch = 8\n",
    "\n",
    "# Axes labels\n",
    "fontsize = 14\n",
    "xlabel = 'time [month]'\n",
    "ylabel = 'latitude [deg]'\n",
    "xlabelpad = 30\n",
    "ylabelpad = 60\n",
    "\n",
    "# Colorbar configuration\n",
    "cmap = \"jet\"\n",
    "cbar_position = \"right\"\n",
    "\n",
    "title_fontstyle = {\n",
    "    \"fontsize\": \"14\",\n",
    "    \"fontstyle\": \"italic\",\n",
    "    \"fontweight\": \"bold\",\n",
    "    \"pad\": 30\n",
    "}\n",
    "\n",
    "label_fontstyle = {\n",
    "    \"fontsize\": \"12\",\n",
    "    \"labelpad\": 30\n",
    "}\n",
    "\n",
    "# Set the coordinates indexes\n",
    "lat_indexes = getRangeIndexes(lats, lat_min, lat_max)\n",
    "time_indexes = getRangeIndexes(times, time_min, time_max)\n",
    "depth_indexes = [0]\n",
    "\n",
    "# Get the selected coordinates:\n",
    "lats_sel = lats[lat_indexes]\n",
    "times_sel = times[time_indexes]\n",
    "plt.figure(figsize=(width_inch, height_inch))\n",
    "\n",
    "# contour fill\n",
    "min_value = data.min() if min_value is None else min_value\n",
    "max_value = data.max() if max_value is None else max_value\n",
    "step_value = 0.5\n",
    "#xx, yy = np.meshgrid(lats_sel, time_indexes)\n",
    "xx, yy = np.meshgrid(time_indexes, lats_sel)\n",
    "\n",
    "# draw colorbar\n",
    "fig, _axs = plt.subplots(nrows=1, ncols=1)\n",
    "fig.colorbar(colormesh)\n",
    "\n",
    "# pcolormesh\n",
    "colormesh = _axs.pcolormesh(xx, yy, data.T, vmin=min_value, vmax=max_value, cmap=cmap)\n",
    "\n",
    "# set title\n",
    "title_sel = data.long_name\n",
    "var_str = \"{} [{}]\".format(title_sel, data.units)\n",
    "\n",
    "if dataset_3D:\n",
    "    depth_str = \"{:.2f}{}\".format(float(data[depth_name]), \"[m]\")\n",
    "    title = '%s, %s degE, %s' % (var_str, str(lon_sel), depth_str)\n",
    "else:\n",
    "    title = '%s, %s degE' % (var_str, str(lon_sel))\n",
    "\n",
    "# draw title and axes labels\n",
    "plt.title(title, **title_fontstyle)\n",
    "plt.xlabel(xlabel, labelpad=xlabelpad, fontsize=12)\n",
    "plt.ylabel(ylabel, labelpad=ylabelpad, fontsize=12)    \n",
    "\n",
    "# output file\n",
    "output_file = os.path.join(out_path,title.replace(' ','_')) + \".png\"\n",
    "\n",
    "# save the output file\n",
    "plt.savefig(output_file)\n",
    "\n",
    "# show the picture\n",
    "plt.show()\n",
    "plt.close()"
   ]
  },
  {
   "cell_type": "markdown",
   "metadata": {},
   "source": [
    "***"
   ]
  },
  {
   "cell_type": "markdown",
   "metadata": {},
   "source": [
    "This figure shows the seasonal cycle of the chlorophyll at the boundary between subtropical and subpolar gyres of the Pacific Ocean. We see a very oligotrophic region with very low chlorophyll levels all year long south of 28°N. Further north, we see a marked seasonal cycle typical of subpolar gyres: a spring bloom due to the mixed layer restratification followed by a period with very low chlorophyll levels (very shallow mixed layer) in summer and a deepening of the mixed layer in autumn associated with increasing chlorophyll concentration. "
   ]
  },
  {
   "cell_type": "markdown",
   "metadata": {},
   "source": [
    "# 6. Conclusion"
   ]
  },
  {
   "cell_type": "markdown",
   "metadata": {},
   "source": [
    "<div class=\"alert alert-block alert-success\">\n",
    "    <b>CONGRATULATIONS</b><br>\n",
    "  \n",
    "--- \n",
    "\n",
    "#### And thank you for your attention! :) We hope you enjoyed this training on the Global Biogeochemical model data provided by Copernicus Marine Service, for free, thanks to the European Commission.\n",
    "\n",
    "#### Now let's try to download new data and variables and to access and visualize them... you can try to make new maps and plots... and don't forget to try to the other [Copernicus Marine Global products](https://resources.marine.copernicus.eu/?option=com_csw&task=results)!\n",
    "\n",
    "This training course is over but we'd love to hear from you about how we could improve it (topics, tools, storytelling, format, speed etc). "
   ]
  },
  {
   "cell_type": "markdown",
   "metadata": {},
   "source": [
    "[Go back to the \"Table of contents\"](#Table-of-contents)"
   ]
  }
 ],
 "metadata": {
  "finalized": {
   "timestamp": 1575910822768,
   "trusted": true
  },
  "kernelspec": {
   "display_name": "Python 3",
   "language": "python",
   "name": "python3"
  },
  "language_info": {
   "codemirror_mode": {
    "name": "ipython",
    "version": 3
   },
   "file_extension": ".py",
   "mimetype": "text/x-python",
   "name": "python",
   "nbconvert_exporter": "python",
   "pygments_lexer": "ipython3",
   "version": "3.7.3"
  }
 },
 "nbformat": 4,
 "nbformat_minor": 4
}
