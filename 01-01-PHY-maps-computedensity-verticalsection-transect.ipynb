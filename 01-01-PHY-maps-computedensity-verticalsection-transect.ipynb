{
 "cells": [
  {
   "cell_type": "markdown",
   "metadata": {},
   "source": [
    "![header](https://i.imgur.com/I4ake6d.jpg)"
   ]
  },
  {
   "cell_type": "markdown",
   "metadata": {},
   "source": [
    "# COPERNICUS MARINE PHYSICAL ASIA TRAINING\n",
    "\n",
    "<div style=\"text-align: right\"><i> 01-01-PHY </i></div>\n",
    "\n",
    "***\n",
    "\n",
    "<center><h1>How to visualize maps of Temperature, Salinity, Mixed Layer Depth (MLD) and vector currents, to compute the density and plot vertical sections along a transect</h1></center>"
   ]
  },
  {
   "cell_type": "markdown",
   "metadata": {},
   "source": [
    "***\n",
    "**General Note 1**: Execute each cell through the <button class=\"btn btn-default btn-xs\"><i class=\"icon-play fa fa-play\"></i></button> button from the top MENU (or keyboard shortcut `Shift` + `Enter`).<br>\n",
    "<br>\n",
    "**General Note 2**: If, for any reason, the kernel is not working anymore, in the top MENU, click on the <button class=\"btn btn-default btn-xs\"><i class=\"fa fa-repeat icon-repeat\"></i></button> button. Then, in the top MENU, click on \"Run\" and select \"Run All Above Selected Cell\".<br>\n",
    "***"
   ]
  },
  {
   "cell_type": "markdown",
   "metadata": {},
   "source": [
    "# Table of contents\n",
    "- [1. Introduction](#1.-Introduction)\n",
    "- [2. Exercise n.1: Plot of maps](#2.-Exercise-n.1:-Plot-of-maps)\n",
    "    - [2.1. About the data](#2.1.-About-the-data)\n",
    "    - [2.2. Download the data](#2.2.-Download-the-data)\n",
    "    - [2.3. The exercise](#2.3.-The-exercise)\n",
    "        - [2.3.1. Required modules](#2.3.1.-Required-modules)\n",
    "        - [2.3.2. Required Python version](#2.3.2.-Required-Python-version)\n",
    "        - [2.3.3. Import the modules](#2.3.3.-Import-the-modules)\n",
    "        - [2.3.4. Access the data](#2.3.4.-Access-the-data)\n",
    "        - [2.3.5. Set the configuration](#2.3.5.-Set-the-configuration)\n",
    "        - [2.3.6. Configure the variables for the plots](#2.3.6.-Configure-the-variables-for-the-plots)\n",
    "        - [2.3.7. Generate the maps](#2.3.7.-Generate-the-maps)\n",
    "        - [2.3.8. Configuration for the currents' plot](#2.3.8.-Configuration-for-the-currents'-plot)\n",
    "- [3. Exercise n.2: Plot of transects](#3.-Exercise-n.2:-Plot-of-transects)\n",
    "    - [3.1. About the data](#3.1.-About-the-data)\n",
    "    - [3.2. Download the data](#3.2.-Download-the-data)\n",
    "    - [3.3. The exercise](#3.3.-The-exercise)\n",
    "        - [3.3.1. Set the configuration](#3.3.1.-Set-the-configuration)\n",
    "        - [3.3.2. Configure the variables for the plot](#3.3.2.-Configure-the-variables-for-the-plot)\n",
    "        - [3.3.3. Function for plotting the transect](#3.3.3.-Function-for-plotting-the-transect)     \n",
    "        - [3.3.4. Density and MLD comparison](#3.3.4.-Density-and-MLD-comparison)\n",
    "        - [Conclusion](#4.-Conclusion)\n",
    "***"
   ]
  },
  {
   "cell_type": "markdown",
   "metadata": {},
   "source": [
    "# 1. Introduction"
   ]
  },
  {
   "cell_type": "markdown",
   "metadata": {},
   "source": [
    "[Go back to the \"Table of contents\"](#Table-of-contents)"
   ]
  },
  {
   "cell_type": "markdown",
   "metadata": {},
   "source": [
    "\n",
    "\n",
    "The objective of this exercise is to use the CMEMS GLO-MFC model products to visualize the main physical fields in the North Western Indian Ocean.\n",
    "\n",
    "In particular, you will display:\n",
    "\n",
    "- horizontal maps of the different 2D and 3D variables, the latter also at different depths for two different months (May 2020 and February 2021)\n",
    "- vertical sections of temperature, salinity and density along a transect in the North Western Indian Ocean highlighting the vertical structure of these fields in two different seasons.\n",
    "\n"
   ]
  },
  {
   "cell_type": "markdown",
   "metadata": {},
   "source": [
    "***"
   ]
  },
  {
   "cell_type": "markdown",
   "metadata": {},
   "source": [
    "# 2. Exercise n.1: Plot of maps"
   ]
  },
  {
   "cell_type": "markdown",
   "metadata": {},
   "source": [
    "[Go back to the \"Table of contents\"](#Table-of-contents)"
   ]
  },
  {
   "cell_type": "markdown",
   "metadata": {},
   "source": [
    "# 2.1. About the data"
   ]
  },
  {
   "cell_type": "markdown",
   "metadata": {},
   "source": [
    "[Go back to the \"Table of contents\"](#Table-of-contents)"
   ]
  },
  {
   "cell_type": "markdown",
   "metadata": {},
   "source": [
    "### 2.1.1. Model description\n",
    "\n",
    "This example is based on the product whose Identifier is: [GLOBAL_ANALYSIS_FORECAST_PHY_001_024](https://resources.marine.copernicus.eu/?option=com_csw&view=details&product_id=GLOBAL_ANALYSIS_FORECAST_PHY_001_024)"
   ]
  },
  {
   "cell_type": "markdown",
   "metadata": {},
   "source": [
    "The Operational Mercator global ocean analysis and forecast system at 1/12 degree is providing 10 days of 3D global ocean forecasts updated daily. The time series start on January 1st, 2016 and is aggregated in time in order to reach a two full year’s time series sliding window.\n",
    "\n",
    "This product includes daily and monthly mean files of temperature, salinity, currents, sea level, mixed layer depth and ice parameters from the top to the bottom over the global ocean. It also includes hourly mean surface fields for sea level height, temperature and currents. The global ocean output files are displayed with a 1/12 degree horizontal resolution with regular longitude/latitude equirectangular projection.\n",
    "50 vertical levels are ranging from 0 to 5500 meters.\n",
    "\n",
    "This product also delivers a special dataset for surface current which also includes wave and tidal drift called SMOC (Surface merged Ocean Current)."
   ]
  },
  {
   "cell_type": "markdown",
   "metadata": {},
   "source": [
    "<img src=\"./img/GLOBAL_ANALYSIS_FORECAST_PHY_001_024_table1.png\">\n",
    "<img src=\"./img/GLOBAL_ANALYSIS_FORECAST_PHY_001_024_table2.png\">"
   ]
  },
  {
   "cell_type": "markdown",
   "metadata": {},
   "source": [
    "### 2.1.2. Get more info on the product\n",
    "\n",
    "1. You can find info on this product and access to the download services in the [dedicated Product Page on Copernicus Marine (CMEMS) Web portal](https://resources.marine.copernicus.eu/?option=com_csw&view=details&product_id=GLOBAL_ANALYSIS_FORECAST_PHY_001_024)\n",
    "<br><br>\n",
    "2. For **detailed information** about the product, please consult the **document**: [Product User Manual (PUM)](./docs/CMEMS-GLO-PUM-001-024.pdf)\n",
    "<br><br>\n",
    "3. For information about **the quality and validation** of the product, please consult the **document**: [Quality Information Document (QUID)](./docs/CMEMS-GLO-QUID-001-024.pdf)"
   ]
  },
  {
   "cell_type": "markdown",
   "metadata": {},
   "source": [
    "***"
   ]
  },
  {
   "cell_type": "markdown",
   "metadata": {},
   "source": [
    "# 2.2. Download the data"
   ]
  },
  {
   "cell_type": "markdown",
   "metadata": {},
   "source": [
    "[Go back to the \"Table of contents\"](#Table-of-contents)"
   ]
  },
  {
   "cell_type": "markdown",
   "metadata": {},
   "source": [
    "### 2.2.1. Parameters used for downloading the data\n",
    "\n",
    "| Parameter | Value |\n",
    "| :---: | :---|\n",
    "| **Product** | GLOBAL_ANALYSIS_FORECAST_PHY_001_024 |\n",
    "| **Dataset** | global-analysis-forecast-phy-001-024-monthly |\n",
    "| **variables** | <ul><li>thetao</li><li>mlost</li><li>thetao</li><li>uo</li><li>vo</li></ul> |\n",
    "| **Frequency** | monthly |\n",
    "| **Lat min** | -3 |\n",
    "| **Lat max** | 30 |\n",
    "| **Lon min** | 40 |\n",
    "| **Lon max** | 80 | \n",
    "| **Timesteps** | 2020-05-16 and 2021-02-15 |\n",
    "| **Depths** | from 0.494 to 541.0889 |\n",
    "| **Service for downloading** | SUBSETTER |\n",
    "| **Files total dimension** | ~70MB |"
   ]
  },
  {
   "cell_type": "markdown",
   "metadata": {},
   "source": [
    "### 2.2.2. How to download the products?\n",
    "\n",
    "If you need some help about the different services for downloading the CMEMS products, please check this [tutorial](\n",
    "https://help-cmems.mercator-ocean.fr/en/articles/4469993-how-to-download-copernicus-marine-data)"
   ]
  },
  {
   "cell_type": "markdown",
   "metadata": {},
   "source": [
    "<div class=\"alert alert-block alert-warning\">\n",
    "    <b>Get the CMEMS User credentials</b>\n",
    "<hr>\n",
    "The data are already available in this notebook. But if you want to download the data by yourself, please be sure to have by your CMEMS User credentials. Otherwise please get them <a href=\"http://marine.copernicus.eu/services-portfolio/register-now/\" target=\"_blank\">here</a>."
   ]
  },
  {
   "cell_type": "markdown",
   "metadata": {},
   "source": [
    "### Download with *motuclient*\n",
    "\n",
    "Data can be alternatively downloaded with **motuclient**, a multiplatform python script to automate extraction of information from the Marine Copernicus portal. To install motuclient:"
   ]
  },
  {
   "cell_type": "markdown",
   "metadata": {},
   "source": [
    "```\n",
    "!pip install motuclient\n",
    "```"
   ]
  },
  {
   "cell_type": "code",
   "execution_count": 1,
   "metadata": {},
   "outputs": [
    {
     "name": "stdout",
     "output_type": "stream",
     "text": [
      "Requirement already satisfied: motuclient in c:\\anaconda\\lib\\site-packages (1.8.8)\n"
     ]
    }
   ],
   "source": [
    "!pip install motuclient"
   ]
  },
  {
   "cell_type": "markdown",
   "metadata": {},
   "source": [
    "To get more info on motuclient visit the related [web page](https://help-cmems.mercator-ocean.fr/en/articles/4796533-what-are-the-motu-client-motuclient-and-python-requirements)."
   ]
  },
  {
   "cell_type": "markdown",
   "metadata": {},
   "source": [
    "Using *motuclient* you'll be able to download data with the following command line. You have to copy this line to another cell for being execute (**NOTE:** don't forget to set username and password!):"
   ]
  },
  {
   "cell_type": "markdown",
   "metadata": {},
   "source": [
    "```\n",
    "!python -m motuclient --motu http://nrt.cmems-du.eu/motu-web/Motu --service-id GLOBAL_ANALYSIS_FORECAST_PHY_001_024-TDS --product-id global-analysis-forecast-phy-001-024-monthly --longitude-min 40 --longitude-max 80 --latitude-min -3 --latitude-max 30 --date-min \"2020-05-16 12:00:00\" --date-max \"2020-05-16 12:00:00\" --depth-min 0.493 --depth-max 541.09 --variable mlotst --variable so --variable thetao --variable uo --variable vo --out-dir data --out-name global-analysis-forecast-phy-001-024-monthly_20200516.nc --user <USERNAME> --pwd <PASSWORD>\n",
    "```"
   ]
  },
  {
   "cell_type": "code",
   "execution_count": null,
   "metadata": {},
   "outputs": [],
   "source": []
  },
  {
   "cell_type": "markdown",
   "metadata": {},
   "source": [
    "And also:"
   ]
  },
  {
   "cell_type": "markdown",
   "metadata": {},
   "source": [
    "```\n",
    "!python -m motuclient --motu http://nrt.cmems-du.eu/motu-web/Motu --service-id GLOBAL_ANALYSIS_FORECAST_PHY_001_024-TDS --product-id global-analysis-forecast-phy-001-024-monthly --longitude-min 40 --longitude-max 80 --latitude-min -3 --latitude-max 30 --date-min \"2021-02-15 12:00:00\" --date-max \"2021-02-15 12:00:00\" --depth-min 0.493 --depth-max 541.09 --variable mlotst --variable so --variable thetao --variable uo --variable vo --out-dir data --out-name global-analysis-forecast-phy-001-024-monthly_20210215.nc --user <USERNAME> --pwd <PASSWORD>\n",
    "```"
   ]
  },
  {
   "cell_type": "code",
   "execution_count": null,
   "metadata": {},
   "outputs": [],
   "source": []
  },
  {
   "cell_type": "markdown",
   "metadata": {},
   "source": [
    "Check if the file has been created... "
   ]
  },
  {
   "cell_type": "code",
   "execution_count": 2,
   "metadata": {},
   "outputs": [
    {
     "name": "stdout",
     "output_type": "stream",
     "text": [
      "global-analysis-forecast-phy-001-024-monthly_20200516.nc\n",
      "global-analysis-forecast-phy-001-024-monthly_20210215.nc\n"
     ]
    }
   ],
   "source": [
    "import os\n",
    "for filename in os.listdir('data'):\n",
    "    if filename.endswith(\".nc\"):\n",
    "        print(filename)"
   ]
  },
  {
   "cell_type": "markdown",
   "metadata": {},
   "source": [
    "***"
   ]
  },
  {
   "cell_type": "markdown",
   "metadata": {},
   "source": [
    "# 2.3. The exercise"
   ]
  },
  {
   "cell_type": "markdown",
   "metadata": {},
   "source": [
    "### 2.3.1. Required modules"
   ]
  },
  {
   "cell_type": "markdown",
   "metadata": {},
   "source": [
    "[Go back to the \"Table of contents\"](#Table-of-contents)"
   ]
  },
  {
   "cell_type": "markdown",
   "metadata": {},
   "source": [
    "| Module name | Description |\n",
    "| :---: | :---|\n",
    "| **os** | [ Miscellaneous operating system interfaces](https://docs.python.org/3.7/library/os.html) for managing paths, creating directories,... |\n",
    "| **numpy** | [NumPy](https://numpy.org/) is the fundamental package for scientific computing with Python and for managing ND-arrays |\n",
    "| **xarray** | [Xarray](http://xarray.pydata.org/en/stable/) introduces labels in the form of dimensions, coordinates and attributes on top of raw NumPy-like arrays, which allows for a more intuitive, more concise, and less error-prone developer experience. |\n",
    "| **matplotlib** |[Matplotlib](https://matplotlib.org/) is a Python 2D plotting library which produces publication quality figures |\n",
    "| **basemap** |[The matplotlib basemap toolkit](https://matplotlib.org/basemap/) is a library for plotting 2D data on maps in Python. |\n",
    "| **gsw** |[Gibbs-SeaWater (GSW) Oceanographic Toolbox](http://www.teos-10.org/software.htm) contains the TEOS-10 subroutines for evaluating the thermodynamic prope."
   ]
  },
  {
   "cell_type": "markdown",
   "metadata": {},
   "source": [
    "The most important module used in this example is **gsw** (Gibbs-SeaWater).\n",
    "\n",
    "The [Gibbs-SeaWater (GSW) Oceanographic Toolbox](http://www.teos-10.org/software.htm) contains the TEOS-10 subroutines for evaluating the thermodynamic properties of pure water (using IAPWS-09) and seawater (using IAPWS-08 for the saline part). The GSW library does not provide properties of ice or moist air (these properties can be found in the SIA library). This GSW Oceanographic Toolbox does not adhere to strict basic-SI units but rather oceanographic units are adopted.\n",
    "\n",
    "This Python implementation of the Thermodynamic Equation of Seawater 2010 (TEOS-10) is based primarily on numpy ufunc wrappers of the GSW-C implementation. We expect it to replace the original python-gsw pure-python implementation after a brief overlap period. The primary reasons for this change are that by building on the C implementation we reduce code duplication and we gain an immediate update to the 75-term equation. Additional benefits include a major increase in speed, a reduction in memory usage, and the inclusion of more functions. The penalty is that a C (or MSVC C++ for Windows) compiler is required to build the package from source.\n",
    "\n",
    "*References*:\n",
    "\n",
    "[gsw python GitHub](https://github.com/TEOS-10/GSW-Python)\n",
    "\n",
    "[Documentation on GSW-Python](https://teos-10.github.io/GSW-Python)\n",
    "\n",
    "[Documentation on gsw.density](https://teos-10.github.io/GSW-Python/density.html)"
   ]
  },
  {
   "cell_type": "markdown",
   "metadata": {},
   "source": [
    "### 2.3.2. Required Python version\n",
    "[Go back to the \"Table of contents\"](#Table-of-contents)\n",
    "\n",
    "Install the needed Python modules (for local installation, can be skipped during Training)"
   ]
  },
  {
   "cell_type": "markdown",
   "metadata": {},
   "source": [
    "**Requirement: Python version 3.7**"
   ]
  },
  {
   "cell_type": "markdown",
   "metadata": {},
   "source": [
    "Check your Python version:"
   ]
  },
  {
   "cell_type": "code",
   "execution_count": 3,
   "metadata": {},
   "outputs": [
    {
     "name": "stdout",
     "output_type": "stream",
     "text": [
      "Python 3.8.3\n"
     ]
    }
   ],
   "source": [
    "!python --version"
   ]
  },
  {
   "cell_type": "markdown",
   "metadata": {},
   "source": [
    "If needed you can install the right Python version in this way:\n",
    "```\n",
    "conda install python=3.7.10\n",
    "```"
   ]
  },
  {
   "cell_type": "code",
   "execution_count": null,
   "metadata": {},
   "outputs": [],
   "source": [
    "# conda install python=3.7.10"
   ]
  },
  {
   "cell_type": "markdown",
   "metadata": {},
   "source": [
    "If you are using the standard *Anaconda3* installation, you can install the needed modules executing the following command in the following cell:\n",
    "```\n",
    "conda install numpy=1.19.2 numpy-base=1.19.2 xarray=0.17.0 matplotlib=3.2.2 matplotlib-base=3.2.2 basemap=1.2.0 basemap-data-hires=1.2.0 netcdf4=1.5.6 basemap-data-hires=1.2.0 geos=3.6.2 proj4=5.2.0 pyproj=1.9.6 pyshp=2.1.3 \n",
    "```"
   ]
  },
  {
   "cell_type": "code",
   "execution_count": null,
   "metadata": {},
   "outputs": [],
   "source": []
  },
  {
   "cell_type": "markdown",
   "metadata": {},
   "source": [
    "And now install the **gsw** package which belongs to the channel **conda-forge**:\n",
    "```\n",
    "conda install -c conda-forge gsw\n",
    "```"
   ]
  },
  {
   "cell_type": "code",
   "execution_count": 4,
   "metadata": {
    "scrolled": true
   },
   "outputs": [
    {
     "name": "stdout",
     "output_type": "stream",
     "text": [
      "Collecting package metadata (current_repodata.json): ...working... done\n",
      "Note: you may need to restart the kernel to use updated packages.\n"
     ]
    },
    {
     "name": "stderr",
     "output_type": "stream",
     "text": [
      "\n",
      "\n",
      "==> WARNING: A newer version of conda exists. <==\n",
      "  current version: 4.8.3\n",
      "  latest version: 4.10.1\n",
      "\n",
      "Please update conda by running\n",
      "\n",
      "    $ conda update -n base -c defaults conda\n",
      "\n",
      "\n"
     ]
    },
    {
     "name": "stdout",
     "output_type": "stream",
     "text": [
      "\n",
      "Solving environment: ...working... done\n",
      "\n",
      "## Package Plan ##\n",
      "\n",
      "  environment location: C:\\Anaconda\n",
      "\n",
      "  added / updated specs:\n",
      "    - gsw\n",
      "\n",
      "\n",
      "The following packages will be downloaded:\n",
      "\n",
      "    package                    |            build\n",
      "    ---------------------------|-----------------\n",
      "    conda-4.10.1               |   py38haa244fe_0         3.1 MB  conda-forge\n",
      "    gsw-3.4.0                  |   py38h347fdf6_1         2.1 MB  conda-forge\n",
      "    python_abi-3.8             |           1_cp38           4 KB  conda-forge\n",
      "    ------------------------------------------------------------\n",
      "                                           Total:         5.2 MB\n",
      "\n",
      "The following NEW packages will be INSTALLED:\n",
      "\n",
      "  gsw                conda-forge/win-64::gsw-3.4.0-py38h347fdf6_1\n",
      "  python_abi         conda-forge/win-64::python_abi-3.8-1_cp38\n",
      "\n",
      "The following packages will be UPDATED:\n",
      "\n",
      "  conda                       pkgs/main::conda-4.8.3-py38_0 --> conda-forge::conda-4.10.1-py38haa244fe_0\n",
      "\n",
      "\n",
      "\n",
      "Downloading and Extracting Packages\n",
      "\n",
      "gsw-3.4.0            | 2.1 MB    |            |   0% \n",
      "gsw-3.4.0            | 2.1 MB    |            |   1% \n",
      "gsw-3.4.0            | 2.1 MB    | #7         |  17% \n",
      "gsw-3.4.0            | 2.1 MB    | #####5     |  55% \n",
      "gsw-3.4.0            | 2.1 MB    | ######7    |  67% \n",
      "gsw-3.4.0            | 2.1 MB    | #######8   |  79% \n",
      "gsw-3.4.0            | 2.1 MB    | #########7 |  97% \n",
      "gsw-3.4.0            | 2.1 MB    | ########## | 100% \n",
      "\n",
      "conda-4.10.1         | 3.1 MB    |            |   0% \n",
      "conda-4.10.1         | 3.1 MB    | 4          |   4% \n",
      "conda-4.10.1         | 3.1 MB    | #3         |  13% \n",
      "conda-4.10.1         | 3.1 MB    | ##3        |  23% \n",
      "conda-4.10.1         | 3.1 MB    | ###5       |  35% \n",
      "conda-4.10.1         | 3.1 MB    | ####8      |  48% \n",
      "conda-4.10.1         | 3.1 MB    | ######2    |  63% \n",
      "conda-4.10.1         | 3.1 MB    | #######2   |  73% \n",
      "conda-4.10.1         | 3.1 MB    | ########1  |  81% \n",
      "conda-4.10.1         | 3.1 MB    | #########4 |  95% \n",
      "conda-4.10.1         | 3.1 MB    | ########## | 100% \n",
      "\n",
      "python_abi-3.8       | 4 KB      |            |   0% \n",
      "python_abi-3.8       | 4 KB      | ########## | 100% \n",
      "Preparing transaction: ...working... done\n",
      "Verifying transaction: ...working... done\n",
      "Executing transaction: ...working... done\n"
     ]
    }
   ],
   "source": [
    "conda install -c conda-forge gsw"
   ]
  },
  {
   "cell_type": "code",
   "execution_count": 7,
   "metadata": {},
   "outputs": [
    {
     "name": "stdout",
     "output_type": "stream",
     "text": [
      "Collecting xarray\n",
      "  Downloading xarray-0.18.2-py3-none-any.whl (807 kB)\n",
      "Requirement already satisfied: pandas>=1.0 in c:\\anaconda\\lib\\site-packages (from xarray) (1.0.5)\n",
      "Requirement already satisfied: setuptools>=40.4 in c:\\anaconda\\lib\\site-packages (from xarray) (49.2.0.post20200714)\n",
      "Requirement already satisfied: numpy>=1.17 in c:\\anaconda\\lib\\site-packages (from xarray) (1.18.5)\n",
      "Requirement already satisfied: python-dateutil>=2.6.1 in c:\\anaconda\\lib\\site-packages (from pandas>=1.0->xarray) (2.8.1)\n",
      "Requirement already satisfied: pytz>=2017.2 in c:\\anaconda\\lib\\site-packages (from pandas>=1.0->xarray) (2020.1)\n",
      "Requirement already satisfied: six>=1.5 in c:\\anaconda\\lib\\site-packages (from python-dateutil>=2.6.1->pandas>=1.0->xarray) (1.15.0)\n",
      "Installing collected packages: xarray\n",
      "Successfully installed xarray-0.18.2\n"
     ]
    }
   ],
   "source": [
    "!pip install xarray"
   ]
  },
  {
   "cell_type": "markdown",
   "metadata": {},
   "source": [
    "### 2.3.3. Import the modules\n",
    "[Go back to the \"Table of contents\"](#Table-of-contents)"
   ]
  },
  {
   "cell_type": "markdown",
   "metadata": {},
   "source": [
    "For avoiding the warning messages during the execution and installation process, at first remove them:"
   ]
  },
  {
   "cell_type": "code",
   "execution_count": 8,
   "metadata": {},
   "outputs": [],
   "source": [
    "import warnings\n",
    "warnings.filterwarnings('ignore')"
   ]
  },
  {
   "cell_type": "code",
   "execution_count": 10,
   "metadata": {},
   "outputs": [],
   "source": [
    "import os\n",
    "import numpy as np\n",
    "import xarray as xr\n",
    "import matplotlib.pyplot as plt\n",
    "%matplotlib inline"
   ]
  },
  {
   "cell_type": "code",
   "execution_count": 16,
   "metadata": {},
   "outputs": [],
   "source": [
    "import mpl_toolkits "
   ]
  },
  {
   "cell_type": "code",
   "execution_count": null,
   "metadata": {},
   "outputs": [],
   "source": [
    "from mpl_toolkits.basemap import Basemap"
   ]
  },
  {
   "cell_type": "code",
   "execution_count": null,
   "metadata": {},
   "outputs": [],
   "source": [
    "import gsw.density as density"
   ]
  },
  {
   "cell_type": "markdown",
   "metadata": {},
   "source": [
    "*Don't change the following constants, which define the training and the notebook codes*:"
   ]
  },
  {
   "cell_type": "code",
   "execution_count": null,
   "metadata": {},
   "outputs": [],
   "source": [
    "REGION_CODE = \"01\"\n",
    "NB_CODE = \"01\""
   ]
  },
  {
   "cell_type": "markdown",
   "metadata": {},
   "source": [
    "**checkDir**: function for creating a path, if needed"
   ]
  },
  {
   "cell_type": "code",
   "execution_count": null,
   "metadata": {},
   "outputs": [],
   "source": [
    "def checkDir(outPath):\n",
    "    if not os.path.exists(outPath):\n",
    "        os.makedirs(outPath)"
   ]
  },
  {
   "cell_type": "markdown",
   "metadata": {},
   "source": [
    "**getRangeIndexes**: function for getting the indexes of the array *arr* between the *var_min* and *var_max* values:"
   ]
  },
  {
   "cell_type": "code",
   "execution_count": null,
   "metadata": {},
   "outputs": [],
   "source": [
    "def getRangeIndexes(arr, var_min, var_max):\n",
    "    return np.where((arr >= var_min) & (arr <= var_max))[0]"
   ]
  },
  {
   "cell_type": "markdown",
   "metadata": {},
   "source": [
    "Set the paths:"
   ]
  },
  {
   "cell_type": "code",
   "execution_count": null,
   "metadata": {},
   "outputs": [],
   "source": [
    "# Path for netcdf files\n",
    "data_path = './data'\n",
    "# Path for the output files (images, etc)\n",
    "out_path = './out/'+REGION_CODE+'-'+NB_CODE"
   ]
  },
  {
   "cell_type": "code",
   "execution_count": null,
   "metadata": {},
   "outputs": [],
   "source": [
    "# Create directories\n",
    "checkDir(data_path)\n",
    "checkDir(out_path)"
   ]
  },
  {
   "cell_type": "markdown",
   "metadata": {},
   "source": [
    "Check if the new directories have been created... "
   ]
  },
  {
   "cell_type": "code",
   "execution_count": null,
   "metadata": {},
   "outputs": [],
   "source": [
    "for filename in os.listdir('.'):\n",
    "    print(filename)"
   ]
  },
  {
   "cell_type": "markdown",
   "metadata": {},
   "source": [
    "... and if the data files are available:"
   ]
  },
  {
   "cell_type": "code",
   "execution_count": null,
   "metadata": {},
   "outputs": [],
   "source": [
    "for filename in os.listdir(data_path):\n",
    "    print(filename)"
   ]
  },
  {
   "cell_type": "markdown",
   "metadata": {},
   "source": [
    "### 2.3.4. Access the data\n",
    "[Go back to the \"Table of contents\"](#Table-of-contents)"
   ]
  },
  {
   "cell_type": "code",
   "execution_count": null,
   "metadata": {},
   "outputs": [],
   "source": [
    "# Input netcdf file\n",
    "\n",
    "file_f = [\"global-analysis-forecast-phy-001-024-monthly_20210215.nc\",\n",
    "         \"global-analysis-forecast-phy-001-024-monthly_20200516.nc\"] \n",
    "\n",
    "# Build the complete nc path\n",
    "file_nc = [os.path.join(data_path, f) for f in file_f]"
   ]
  },
  {
   "cell_type": "code",
   "execution_count": null,
   "metadata": {},
   "outputs": [],
   "source": [
    "# Open the nc dataset\n",
    "file_ds = [ xr.open_dataset(nc) for nc in file_nc]"
   ]
  },
  {
   "cell_type": "markdown",
   "metadata": {},
   "source": [
    "Set the array index for accessing the desired dataset in the datasets arrays:"
   ]
  },
  {
   "cell_type": "code",
   "execution_count": null,
   "metadata": {},
   "outputs": [],
   "source": [
    "# index for the ds arrays\n",
    "# 0 = winter, 1 = summer\n",
    "j = 0"
   ]
  },
  {
   "cell_type": "markdown",
   "metadata": {},
   "source": [
    "### Get info about the dataset :"
   ]
  },
  {
   "cell_type": "code",
   "execution_count": null,
   "metadata": {},
   "outputs": [],
   "source": [
    "file_ds[j].info"
   ]
  },
  {
   "cell_type": "markdown",
   "metadata": {},
   "source": [
    "About the variables:"
   ]
  },
  {
   "cell_type": "code",
   "execution_count": null,
   "metadata": {},
   "outputs": [],
   "source": [
    "file_ds[j].data_vars"
   ]
  },
  {
   "cell_type": "markdown",
   "metadata": {},
   "source": [
    "Coordinates:"
   ]
  },
  {
   "cell_type": "code",
   "execution_count": null,
   "metadata": {},
   "outputs": [],
   "source": [
    "file_ds[j].coords"
   ]
  },
  {
   "cell_type": "markdown",
   "metadata": {},
   "source": [
    "<div class=\"alert alert-block alert-warning\">\n",
    "    \n",
    "**The dataset is 3D! You have depth levels!**\n",
    "\n",
    "The xarray dataset ***file_ds*** is extracted from the dataset ***GLOBAL_ANALYSIS_FORECAST_PHY_001_024***  which is a **3D dataset**        "
   ]
  },
  {
   "cell_type": "markdown",
   "metadata": {},
   "source": [
    "Try to check the depth levels. Type ```file_ds[j].depth``` in the cell below and execute it:"
   ]
  },
  {
   "cell_type": "code",
   "execution_count": null,
   "metadata": {},
   "outputs": [],
   "source": [
    "file_ds[j].depth"
   ]
  },
  {
   "cell_type": "markdown",
   "metadata": {},
   "source": [
    "#### Let consider the variables' names:"
   ]
  },
  {
   "cell_type": "code",
   "execution_count": null,
   "metadata": {},
   "outputs": [],
   "source": [
    "variables = [\"thetao\",\"so\",\"mlotst\",\"uo\",\"vo\"]\n",
    "\n",
    "for v in variables:\n",
    "    print(\" * \" + v + \" is \" + file_ds[j][v].long_name)"
   ]
  },
  {
   "cell_type": "markdown",
   "metadata": {},
   "source": [
    "#### Get info about the \"Temperature\" 3D field : \n"
   ]
  },
  {
   "cell_type": "markdown",
   "metadata": {},
   "source": [
    "To get info about Temperature:"
   ]
  },
  {
   "cell_type": "code",
   "execution_count": null,
   "metadata": {
    "scrolled": true
   },
   "outputs": [],
   "source": [
    "file_ds[j].data_vars['thetao']"
   ]
  },
  {
   "cell_type": "markdown",
   "metadata": {},
   "source": [
    "#### Get info about the \"Salinity\" 3D field : "
   ]
  },
  {
   "cell_type": "markdown",
   "metadata": {},
   "source": [
    "To get info about Salinity:"
   ]
  },
  {
   "cell_type": "code",
   "execution_count": null,
   "metadata": {
    "scrolled": true
   },
   "outputs": [],
   "source": [
    "file_ds[j].data_vars['so']"
   ]
  },
  {
   "cell_type": "markdown",
   "metadata": {},
   "source": [
    "#### Get info about  \"Mixed layer Depth\" 2D field :\n",
    "\n",
    "To get info about mixed-later-depth:"
   ]
  },
  {
   "cell_type": "code",
   "execution_count": null,
   "metadata": {},
   "outputs": [],
   "source": [
    "file_ds[j].data_vars['mlotst']"
   ]
  },
  {
   "cell_type": "markdown",
   "metadata": {},
   "source": [
    "#### Get info about \"Eastward Velocity\" 3D field :\n",
    "\n",
    "To get info about sea water velocity:"
   ]
  },
  {
   "cell_type": "code",
   "execution_count": null,
   "metadata": {},
   "outputs": [],
   "source": [
    "file_ds[j].data_vars['uo']"
   ]
  },
  {
   "cell_type": "markdown",
   "metadata": {},
   "source": [
    "#### Get info about  \"Northward Velocity\" 3D field :\n",
    "\n",
    "To get info about sea water velocity:"
   ]
  },
  {
   "cell_type": "code",
   "execution_count": null,
   "metadata": {},
   "outputs": [],
   "source": [
    "file_ds[j].data_vars['vo']"
   ]
  },
  {
   "cell_type": "markdown",
   "metadata": {},
   "source": [
    "### 2.3.5. Set the configuration\n",
    "[Go back to the \"Table of contents\"](#Table-of-contents)"
   ]
  },
  {
   "cell_type": "markdown",
   "metadata": {},
   "source": [
    "Let's check the coordinates names in the cells above (check the ***ds.coords*** outputs) and set the correct variables below:"
   ]
  },
  {
   "cell_type": "code",
   "execution_count": null,
   "metadata": {},
   "outputs": [],
   "source": [
    "# Set the coordinate names (used later for accessing the data)\n",
    "lon_name = \"longitude\"\n",
    "lat_name = \"latitude\"\n",
    "time_name = \"time\"\n",
    "depth_name = \"depth\""
   ]
  },
  {
   "cell_type": "markdown",
   "metadata": {},
   "source": [
    "Do the same for the variables names (check the ***ds.data_vars*** outputs): "
   ]
  },
  {
   "cell_type": "code",
   "execution_count": null,
   "metadata": {},
   "outputs": [],
   "source": [
    "# Set the variable names\n",
    "tem_name = \"thetao\"\n",
    "sal_name = \"so\"\n",
    "mld_name = \"mlotst\"\n",
    "uo_name = \"uo\"\n",
    "vo_name = \"vo\""
   ]
  },
  {
   "cell_type": "markdown",
   "metadata": {},
   "source": [
    "### 2.3.6. Configure the variables for the plots\n",
    "[Go back to the \"Table of contents\"](#Table-of-contents)"
   ]
  },
  {
   "cell_type": "markdown",
   "metadata": {},
   "source": [
    "#### Let's try to plot the map of the ensemble mean and error for Temperature at first "
   ]
  },
  {
   "cell_type": "markdown",
   "metadata": {},
   "source": [
    "Set the index for the ds arrays. Where 0 = winter, 1 = summer"
   ]
  },
  {
   "cell_type": "code",
   "execution_count": null,
   "metadata": {},
   "outputs": [],
   "source": [
    "# 0 = winter, 1 = summer\n",
    "j = 0"
   ]
  },
  {
   "cell_type": "code",
   "execution_count": null,
   "metadata": {},
   "outputs": [],
   "source": [
    "# --- Choose the variable to plot (but comment the others with the symbol #): ---\n",
    "var_sel = file_ds[j][tem_name]\n",
    "\n",
    "#var_sel = file_ds[j][sal_name]\n",
    "#var_sel = file_ds[j][mld_name]\n",
    "#var_sel = file_ds[j][uo_name]\n",
    "#var_sel = file_ds[j][vo_name]\n",
    "\n",
    "dataset_3D = False \n",
    "if depth_name in var_sel.coords:\n",
    "    dataset_3D = True\n",
    "    \n",
    "# --- Set up the arrays of coordinates for the selected dataset ---\n",
    "# \n",
    "lats = var_sel[lat_name]\n",
    "lons = var_sel[lon_name]\n",
    "times = var_sel[time_name]\n",
    "depths = var_sel[depth_name] if dataset_3D else []"
   ]
  },
  {
   "cell_type": "markdown",
   "metadata": {},
   "source": [
    "Set the limits for the area: choose the min and max values for the coordinates (and comment with the symbol # the unnecessary ones!):  "
   ]
  },
  {
   "cell_type": "code",
   "execution_count": null,
   "metadata": {},
   "outputs": [],
   "source": [
    "# Set lat-lon limits - FULL AREA\n",
    "lat_min = lats.min()\n",
    "lat_max = lats.max()\n",
    "lon_min = lons.min()\n",
    "lon_max = lons.max()\n",
    "\n",
    "# # Set lat-lon limits - CUSTOM AREA\n",
    "# lon_min = 110\n",
    "# lon_max = 140\n",
    "# lat_min = 10\n",
    "# lat_max = 40"
   ]
  },
  {
   "cell_type": "markdown",
   "metadata": {},
   "source": [
    "Set the variable's min and max values for the plot and the colorbar (otherwise assign None):"
   ]
  },
  {
   "cell_type": "code",
   "execution_count": null,
   "metadata": {},
   "outputs": [],
   "source": [
    "min_value, max_value = None, None #authomatic colobar limits"
   ]
  },
  {
   "cell_type": "markdown",
   "metadata": {},
   "source": [
    "Set the desired depth (in meters)"
   ]
  },
  {
   "cell_type": "code",
   "execution_count": null,
   "metadata": {},
   "outputs": [],
   "source": [
    "d = 0"
   ]
  },
  {
   "cell_type": "markdown",
   "metadata": {},
   "source": [
    "### 2.3.7. Generate the maps\n",
    "[Go back to the \"Table of contents\"](#Table-of-contents)"
   ]
  },
  {
   "cell_type": "markdown",
   "metadata": {},
   "source": [
    "#### Plot configuration"
   ]
  },
  {
   "cell_type": "code",
   "execution_count": null,
   "metadata": {},
   "outputs": [],
   "source": [
    "# Plot configuration\n",
    "width_inch = 16\n",
    "height_inch = 8\n",
    "\n",
    "# Map configuration\n",
    "map_config = { \n",
    "#     \"projection\": \"merc\",\n",
    "    \"llcrnrlat\": lat_min,\n",
    "    \"llcrnrlon\": lon_min,\n",
    "    \"urcrnrlat\": lat_max,\n",
    "    \"urcrnrlon\": lon_max,\n",
    "    \"resolution\": 'i',\n",
    "    \"epsg\": 4326\n",
    "}\n",
    "\n",
    "# Axes labels\n",
    "fontsize = 14\n",
    "xlabel = 'longitude [deg]'\n",
    "ylabel = 'latitude [deg]'\n",
    "xlabelpad = 30\n",
    "ylabelpad = 60\n",
    "\n",
    "# Colorbar configuration\n",
    "cmap = \"jet\"\n",
    "cbar_position = \"right\"\n",
    "\n",
    "title_fontstyle = {\n",
    "    \"fontsize\": \"14\",\n",
    "    \"fontstyle\": \"italic\",\n",
    "    \"fontweight\": \"bold\",\n",
    "    \"pad\": 30\n",
    "}\n",
    "\n",
    "label_fontstyle = {\n",
    "    \"fontsize\": \"12\",\n",
    "    \"labelpad\": 30\n",
    "}"
   ]
  },
  {
   "cell_type": "markdown",
   "metadata": {},
   "source": [
    "#### Map generation"
   ]
  },
  {
   "cell_type": "code",
   "execution_count": null,
   "metadata": {},
   "outputs": [],
   "source": [
    "# Set the coordinates indexes\n",
    "lat_indexes = getRangeIndexes(lats, lat_min, lat_max)\n",
    "lon_indexes = getRangeIndexes(lons, lon_min, lon_max)\n",
    "time_indexes = [0]\n",
    "depth_indexes = [0]\n",
    "\n",
    "# Get the selected coordinates:\n",
    "lats_sel = lats[lat_indexes]\n",
    "lons_sel = lons[lon_indexes]\n",
    "\n",
    "for t in time_indexes:\n",
    " \n",
    "    if dataset_3D:\n",
    "        data = var_sel[t, :, lat_indexes, lon_indexes].sel(depth=d,method='nearest')\n",
    "    else: \n",
    "        data = var_sel[t, lat_indexes, lon_indexes]\n",
    "\n",
    "    plt.figure(figsize=(width_inch, height_inch))\n",
    "\n",
    "    map = Basemap(**map_config)\n",
    "\n",
    "    ## contour fill\n",
    "    min_value = data.min() if min_value is None else min_value\n",
    "    max_value = data.max() if max_value is None else max_value\n",
    "    step_value = 0.5\n",
    "    contour_levels = np.arange(min_value, max_value, step_value)\n",
    "    # map.contourf(xx, yy, data, contour_levels, cmap=cmap)\n",
    "\n",
    "    \n",
    "    ## pcolormesh\n",
    "    x = np.linspace(0, map.urcrnrx, data.shape[1])\n",
    "    y = np.linspace(0, map.urcrnry, data.shape[0])\n",
    "    \n",
    "    xx, yy = np.meshgrid(lons_sel, lats_sel)\n",
    "    \n",
    "#     colormesh = map.pcolormesh(xx, yy, data, cmap=cmap)\n",
    "    colormesh = map.pcolormesh(xx, yy, data, vmin=min_value, vmax=max_value, cmap=cmap)\n",
    "    \n",
    "    ## draw meridians and parallels\n",
    "    step_lat = float((lat_max - lat_min) / 5)\n",
    "    step_lon = float((lon_max - lon_min) / 5)\n",
    "\n",
    "    parallels = np.arange(lat_min, lat_max, step_lat)\n",
    "    meridians = np.arange(lon_min, lon_max, step_lon) \n",
    "\n",
    "    map.drawmeridians(meridians, labels=[0,0,0,1], fmt=\"%2.1f\")\n",
    "    map.drawparallels(parallels, labels=[1,0,0,0], fmt=\"%2.1f\")\n",
    "\n",
    "    ## draw colorbar\n",
    "    map.colorbar(colormesh, cbar_position)\n",
    "\n",
    "    ## draw countries...\n",
    "    map.drawcountries(linewidth=0.25, color='olive')\n",
    "    map.fillcontinents(color='lightgray',lake_color='aqua')\n",
    "\n",
    "    ## ... or draw the world using data from different providers (comment the previous lines!)\n",
    "#     map.arcgisimage(service='World_Shaded_Relief', xpixels = 1500, verbose=False)\n",
    "#     map.arcgisimage(service='ESRI_Imagery_World_2D', xpixels = 1500, verbose=False) \n",
    "#     map.bluemarble()\n",
    "#     map.etopo()\n",
    "#     map.shadedrelief()\n",
    "\n",
    "    # set title\n",
    "    title_sel = data.long_name\n",
    "    timestep = np.datetime_as_string(times[t],'h')\n",
    "    var_str = \"{} [{}]\".format(title_sel, data.units)\n",
    "    if dataset_3D:\n",
    "        depth_str = \"{:.2f}{}\".format(float(data[depth_name]), \"[m]\")\n",
    "        title = ' - '.join((var_str, timestep, depth_str))\n",
    "    else:\n",
    "        title = ' - '.join((var_str, timestep))\n",
    "    \n",
    "    ## draw title and axes labels\n",
    "    plt.title(title, **title_fontstyle)\n",
    "    plt.xlabel(xlabel, labelpad=xlabelpad, fontsize=12)\n",
    "    plt.ylabel(ylabel, labelpad=ylabelpad, fontsize=12)    \n",
    "    \n",
    "    # output file\n",
    "    output_file = os.path.join(out_path,title.replace(' ','_')) + \".png\"\n",
    "\n",
    "    # save the output file\n",
    "    plt.savefig(output_file)\n",
    "\n",
    "    plt.show()\n",
    "\n",
    "    plt.close()"
   ]
  },
  {
   "cell_type": "markdown",
   "metadata": {},
   "source": [
    "<div class=\"alert alert-block alert-warning\">\n",
    "    \n",
    "    <b>Display the mixed layer depth in the area.</b> \n",
    "    \n",
    "Is it changing with latitude and season?\n",
    "</div>\n",
    "\n",
    "Large uncertainties are usually found where there is an abrupt change in temperature (called thermocline) which is difficult to model accurately. Above the thermocline exists the so called \"Mixed Layer\" in which the water is well mixed, so all the properties of the water are homogeneous. The vertical extension of the Mixed Layer is shown by the variable Mixed Layer Depth (MLD) .  \n",
    "\n",
    "Display the variable mlotst in May (change the variable and run the cells again) and then check what happens in February, is the season changing the result in the equatorial regions? and around 10N-20N?\n",
    "\n",
    "Play with the colorbar (by modifying max_value in the code) and compare the behaviour at different depths and latitudes.\n"
   ]
  },
  {
   "cell_type": "markdown",
   "metadata": {},
   "source": [
    "<div class=\"alert alert-block alert-warning\">\n",
    "\n",
    "### LET'S TRY: Change the plot!\n",
    "\n",
    "If you want, you can change the above plot.\n",
    "\n",
    "For example, you could:\n",
    "- change the variable to plot\n",
    "- change the area\n",
    "- change the min/max values for the choosen variable\n",
    "- change the depth level (only for 3D datasets! ;))\n",
    "\n",
    "Try to plot salinity at 100m and temperature at 100m \n",
    "\n",
    "Go back to [Configure the variables for the plots](#2.3.6.-Configure-the-variables-for-the-plots) and then re-execute the cell for generating the plot. Try!"
   ]
  },
  {
   "cell_type": "markdown",
   "metadata": {},
   "source": [
    "### 2.3.8. Configuration for the currents' plot\n",
    "[Go back to the \"Table of contents\"](#Table-of-contents)"
   ]
  },
  {
   "cell_type": "markdown",
   "metadata": {},
   "source": [
    "<div class=\"alert alert-block alert-warning\">\n",
    "    \n",
    "    <b>Display the monsoon currents. </b> \n",
    "    \n",
    "Is it changing with latitude and season?\n",
    "</div>   \n",
    "Can you relate the seasonal changes in surface currents with changes in the mixed layer depth?"
   ]
  },
  {
   "cell_type": "markdown",
   "metadata": {},
   "source": [
    "#### For more information about the monsoon, read the paper [\"The monsoon circulation of the Indian Ocean\"](./docs/schott_mccreary_41948.pdf)"
   ]
  },
  {
   "cell_type": "markdown",
   "metadata": {},
   "source": [
    "Set the index for the ds arrays. Where 0 = winter, 1 = summer"
   ]
  },
  {
   "cell_type": "code",
   "execution_count": null,
   "metadata": {},
   "outputs": [],
   "source": [
    "# 0 = winter, 1 = summer\n",
    "j = 0"
   ]
  },
  {
   "cell_type": "markdown",
   "metadata": {},
   "source": [
    "Set the limits for the area: choose the min and max values for the coordinates (and comment with the symbol # the unnecessary ones!):  "
   ]
  },
  {
   "cell_type": "code",
   "execution_count": null,
   "metadata": {},
   "outputs": [],
   "source": [
    "# Set lat-lon limits - FULL AREA\n",
    "lat_min = lats.min()\n",
    "lat_max = lats.max()\n",
    "lon_min = lons.min()\n",
    "lon_max = lons.max()\n",
    "\n",
    "# # Set lat-lon limits - CUSTOM AREA\n",
    "# lon_min = 110\n",
    "# lon_max = 140\n",
    "# lat_min = 10\n",
    "# lat_max = 40"
   ]
  },
  {
   "cell_type": "markdown",
   "metadata": {},
   "source": [
    "Set the desired depth (in meters)"
   ]
  },
  {
   "cell_type": "code",
   "execution_count": null,
   "metadata": {},
   "outputs": [],
   "source": [
    "d = 0"
   ]
  },
  {
   "cell_type": "markdown",
   "metadata": {},
   "source": [
    "Set the variable's min and max values for the plot and the colorbar (otherwise assign None):"
   ]
  },
  {
   "cell_type": "code",
   "execution_count": null,
   "metadata": {},
   "outputs": [],
   "source": [
    "min_value, max_value = -0.5, 2\n",
    "#min_value, max_value = None, None # set None, None for authomatic colobar limits"
   ]
  },
  {
   "cell_type": "code",
   "execution_count": null,
   "metadata": {},
   "outputs": [],
   "source": [
    "# Skip points for the vectors of directions\n",
    "skip_points = 15 # for wider areas\n",
    "# skip_points = 5 # for narrow areas"
   ]
  },
  {
   "cell_type": "code",
   "execution_count": null,
   "metadata": {},
   "outputs": [],
   "source": [
    "# Vector scale\n",
    "v_scale = 20"
   ]
  },
  {
   "cell_type": "code",
   "execution_count": null,
   "metadata": {},
   "outputs": [],
   "source": [
    "# --- Choose the variable to plot\n",
    "uo_sel = file_ds[j][uo_name]\n",
    "vo_sel = file_ds[j][vo_name]\n",
    "mod_sel = (uo_sel**2+vo_sel**2)**0.5 \n",
    "\n",
    "var_sel = mod_sel\n",
    "\n",
    "dataset_3D = False \n",
    "if depth_name in var_sel.coords:\n",
    "    dataset_3D = True\n",
    "    \n",
    "# --- Set up the arrays of coordinates for the selected dataset ---\n",
    "lats = var_sel[lat_name]\n",
    "lons = var_sel[lon_name]\n",
    "times = var_sel[time_name]\n",
    "depths = var_sel[depth_name] if dataset_3D else []"
   ]
  },
  {
   "cell_type": "code",
   "execution_count": null,
   "metadata": {
    "tags": []
   },
   "outputs": [],
   "source": [
    "for t in time_indexes:\n",
    "    if dataset_3D:\n",
    "        data = var_sel[t, :, lat_indexes, lon_indexes].sel(depth=d,method='nearest')\n",
    "        data_uo = uo_sel[t, :, lat_indexes, lon_indexes].sel(depth=d,method='nearest')\n",
    "        data_vo = vo_sel[t, :, lat_indexes, lon_indexes].sel(depth=d,method='nearest')\n",
    "    else: \n",
    "        data = var_sel[t, lat_indexes, lon_indexes]\n",
    "        data_uo = uo_sel[t, lat_indexes, lon_indexes]\n",
    "        data_vo = vo_sel[t, lat_indexes, lon_indexes]\n",
    "\n",
    "    plt.figure(figsize=(width_inch, height_inch))\n",
    "\n",
    "    map = Basemap(**map_config)\n",
    "\n",
    "    ## contour fill\n",
    "    min_value = data.min() if min_value is None else min_value\n",
    "    max_value = data.max() if max_value is None else max_value\n",
    "    step_value = 0.5\n",
    "    \n",
    "    ## pcolormesh\n",
    "    x = np.linspace(0, map.urcrnrx, data.shape[1])\n",
    "    y = np.linspace(0, map.urcrnry, data.shape[0])\n",
    "    \n",
    "    xx, yy = np.meshgrid(lons_sel, lats_sel)\n",
    "    \n",
    "    colormesh = map.pcolormesh(xx, yy, data, vmin=min_value, vmax=max_value, cmap=cmap)\n",
    "    \n",
    "    ## --- plot directions ---        \n",
    "    u = data_uo\n",
    "    v = data_vo\n",
    "    \n",
    "    u_skip = u[::skip_points, ::skip_points]\n",
    "    v_skip = v[::skip_points, ::skip_points]\n",
    "    xx_skip = xx[::skip_points, ::skip_points]\n",
    "    yy_skip = yy[::skip_points, ::skip_points]\n",
    "    \n",
    "    map.quiver(xx_skip, yy_skip, u_skip, v_skip, scale=v_scale)\n",
    "\n",
    "    ## draw meridians and parallels\n",
    "    step_lat = float((lat_max - lat_min) / 5)\n",
    "    step_lon = float((lon_max - lon_min) / 5)\n",
    "\n",
    "    parallels = np.arange(lat_min, lat_max, step_lat)\n",
    "    meridians = np.arange(lon_min, lon_max, step_lon) \n",
    "\n",
    "    map.drawmeridians(meridians, labels=[0,0,0,1], fmt=\"%2.1f\")\n",
    "    map.drawparallels(parallels, labels=[1,0,0,0], fmt=\"%2.1f\")\n",
    "\n",
    "    ## draw colorbar\n",
    "    map.colorbar(colormesh, cbar_position)\n",
    "\n",
    "    ## draw countries...\n",
    "    map.drawcountries(linewidth=0.25, color='olive')\n",
    "    map.fillcontinents(color='lightgray',lake_color='aqua')\n",
    "\n",
    "    ## ... or draw the world using data from different providers (comment the previous lines!)\n",
    "#     map.arcgisimage(service='World_Shaded_Relief', xpixels = 1500, verbose=False)\n",
    "#     map.arcgisimage(service='ESRI_Imagery_World_2D', xpixels = 1500, verbose=False) \n",
    "#     map.bluemarble()\n",
    "#     map.etopo()\n",
    "#     map.shadedrelief()\n",
    "\n",
    "    # set title\n",
    "    title_sel = \"Currents Velocity\"\n",
    "    timestep = np.datetime_as_string(times[t],'h')\n",
    "    var_str = \"{} [{}]\".format(title_sel, \"m per s\")\n",
    "    if dataset_3D:\n",
    "        depth_str = \"{:.2f}{}\".format(float(data[depth_name]), \"[m]\")\n",
    "        title = ' - '.join((var_str, timestep, depth_str))\n",
    "    else:\n",
    "        title = ' - '.join((var_str, timestep))\n",
    "    \n",
    "    ## draw title and axes labels\n",
    "    plt.title(title, **title_fontstyle)\n",
    "    plt.xlabel(xlabel, labelpad=xlabelpad, fontsize=12)\n",
    "    plt.ylabel(ylabel, labelpad=ylabelpad, fontsize=12)    \n",
    "    \n",
    "    # output file\n",
    "    output_file = os.path.join(out_path,title.replace(' ','_')) + \".png\"\n",
    "\n",
    "    # save the output file\n",
    "    plt.savefig(output_file)\n",
    "\n",
    "    plt.show()\n",
    "\n",
    "    plt.close()"
   ]
  },
  {
   "cell_type": "markdown",
   "metadata": {},
   "source": [
    "<div class=\"alert alert-block alert-warning\">\n",
    "\n",
    "### LET'S TRY: Change the plot!\n",
    "\n",
    "If you want, you can change the above plot.\n",
    "\n",
    "For example, you could:\n",
    "- change the time period\n",
    "- change the min/max values for the choosen variable\n",
    "- change the depth level (only for 3D datasets! ;))\n",
    "\n",
    "Go back to [Configure the variables for the plots](#2.3.8.-Configuration-for-the-currents'-plot) and then re-execute the cell for generating the plot. Try!"
   ]
  },
  {
   "cell_type": "markdown",
   "metadata": {},
   "source": [
    "***"
   ]
  },
  {
   "cell_type": "markdown",
   "metadata": {},
   "source": [
    "# 3. Exercise n.2: Plot of transects"
   ]
  },
  {
   "cell_type": "markdown",
   "metadata": {},
   "source": [
    "### Plot transects of temperature, salinity and density"
   ]
  },
  {
   "cell_type": "markdown",
   "metadata": {},
   "source": [
    "[Go back to the \"Table of contents\"](#Table-of-contents)"
   ]
  },
  {
   "cell_type": "markdown",
   "metadata": {},
   "source": [
    "# 3.1. About the data"
   ]
  },
  {
   "cell_type": "markdown",
   "metadata": {},
   "source": [
    "The data are the same used in the [previous exercise](#2.1.-About-the-data)."
   ]
  },
  {
   "cell_type": "markdown",
   "metadata": {},
   "source": [
    "[Go back to the \"Table of contents\"](#Table-of-contents)"
   ]
  },
  {
   "cell_type": "markdown",
   "metadata": {},
   "source": [
    "# 3.2. Download the data"
   ]
  },
  {
   "cell_type": "markdown",
   "metadata": {},
   "source": [
    "The data can be donwloaded as showed in the [previous exercise](#2.2.-Download-the-data)."
   ]
  },
  {
   "cell_type": "markdown",
   "metadata": {},
   "source": [
    "[Go back to the \"Table of contents\"](#Table-of-contents)"
   ]
  },
  {
   "cell_type": "markdown",
   "metadata": {},
   "source": [
    "# 3.3. The exercise"
   ]
  },
  {
   "cell_type": "markdown",
   "metadata": {},
   "source": [
    "### 3.3.1. Set the configuration"
   ]
  },
  {
   "cell_type": "markdown",
   "metadata": {},
   "source": [
    "[Go back to the \"Table of contents\"](#Table-of-contents)"
   ]
  },
  {
   "cell_type": "markdown",
   "metadata": {},
   "source": [
    "Set the coordinates min and max values"
   ]
  },
  {
   "cell_type": "code",
   "execution_count": null,
   "metadata": {},
   "outputs": [],
   "source": [
    "depth_min = 0\n",
    "depth_max = 500 # the MLD is not significant below this level of depth (~192m)\n",
    "lon_point = 70\n",
    "lat_min = -3\n",
    "lat_max = 30"
   ]
  },
  {
   "cell_type": "markdown",
   "metadata": {},
   "source": [
    "Set the indexes of coordinates"
   ]
  },
  {
   "cell_type": "code",
   "execution_count": null,
   "metadata": {},
   "outputs": [],
   "source": [
    "depth_indexes = getRangeIndexes(file_ds[0].depth, depth_min, depth_max)\n",
    "lon_indexes = np.abs(lons-lon_point).argmin()\n",
    "lat_indexes = getRangeIndexes(lats, lat_min, lat_max)\n",
    "time_indexes = 0"
   ]
  },
  {
   "cell_type": "markdown",
   "metadata": {},
   "source": [
    "Extract the coordinates subsets"
   ]
  },
  {
   "cell_type": "code",
   "execution_count": null,
   "metadata": {
    "tags": []
   },
   "outputs": [],
   "source": [
    "# index for the ds arrays\n",
    "j = 1\n",
    "\n",
    "ds = file_ds[j] # the choosen dataset is not important now: we are extrating the coordinates\n",
    "\n",
    "lons_sel = ds[lon_name][lon_indexes]\n",
    "lats_sel = ds[lat_name][lat_indexes]\n",
    "depths_sel = -ds[depth_name][depth_indexes] # note the minus '-ds'. Why?"
   ]
  },
  {
   "cell_type": "markdown",
   "metadata": {},
   "source": [
    "### 3.3.2. Configure the variables for the plot\n",
    "[Go back to the \"Table of contents\"](#Table-of-contents)"
   ]
  },
  {
   "cell_type": "code",
   "execution_count": null,
   "metadata": {},
   "outputs": [],
   "source": [
    "TEM = [ds[tem_name][time_indexes, depth_indexes, lat_indexes, lon_indexes] for ds in file_ds]\n",
    "SAL = [ds[sal_name][time_indexes, depth_indexes, lat_indexes, lon_indexes] for ds in file_ds]\n",
    "MLD = [ds[mld_name][time_indexes, lat_indexes, lon_indexes] for ds in file_ds]\n",
    "UO = [ds[uo_name][time_indexes, depth_indexes, lat_indexes, lon_indexes] for ds in file_ds]"
   ]
  },
  {
   "cell_type": "markdown",
   "metadata": {},
   "source": [
    "#### Set the parameters for the plot"
   ]
  },
  {
   "cell_type": "code",
   "execution_count": null,
   "metadata": {},
   "outputs": [],
   "source": [
    "# Plot configuration\n",
    "width_inch = 14\n",
    "height_inch = 8\n",
    "\n",
    "# Axes labels\n",
    "fontsize = 14\n",
    "xlabel = \"latitude [degN]\"\n",
    "ylabel = \"depth [m]\"\n",
    "\n",
    "# Colorbar configuration\n",
    "cmap = \"jet\"\n",
    "cbar_position = \"right\"\n",
    "\n",
    "contour_levels = 100\n",
    "\n",
    "title_fontstyle = {\n",
    "    \"fontsize\": \"14\",\n",
    "    \"fontstyle\": \"italic\",\n",
    "    \"fontweight\": \"bold\",\n",
    "    \"pad\": 30\n",
    "}\n",
    "label_fontstyle = {\n",
    "    \"fontsize\": \"12\",\n",
    "#     \"labelpad\": 10\n",
    "}"
   ]
  },
  {
   "cell_type": "markdown",
   "metadata": {},
   "source": [
    "### 3.3.3. Function for plotting the transect \n",
    "[Go back to the \"Table of contents\"](#Table-of-contents)"
   ]
  },
  {
   "cell_type": "code",
   "execution_count": null,
   "metadata": {},
   "outputs": [],
   "source": [
    "# arguments:\n",
    "# - data: data to plot - 2 dim array\n",
    "# - minmaxvalues: [{ \"min\": None, \"max\": None},{ \"min\": None, \"max\": None}]\n",
    "# - step_value: step in levels. If is 0, then levels = 100\n",
    "# - title\n",
    "# - lats_sel\n",
    "# - depths_sel\n",
    "#\n",
    "def plot_transect(data_plot, minmaxvalues, step_value, title, lats_sel, depths_sel):\n",
    "    title_sel = title['name']\n",
    "    title_uni = title['units']\n",
    "    \n",
    "    fig = plt.figure(figsize=(width_inch, height_inch))\n",
    "    \n",
    "    # Create the meshgrid for the plot \n",
    "    xx, yy = np.meshgrid(lats_sel, depths_sel)\n",
    "    \n",
    "    ### --- PLOT 1 ---###\n",
    "    fig.add_subplot(1, 2, 1)\n",
    "    idx = 0\n",
    "    data = data_plot[idx]\n",
    "    min_value = minmaxvalues[idx]['min']\n",
    "    max_value = minmaxvalues[idx]['max']\n",
    "  \n",
    "    # set variable limits\n",
    "    min_value = data.min() if min_value is None else min_value\n",
    "    max_value = data.max() if max_value is None else max_value\n",
    "   \n",
    "    contour_levels = np.arange(min_value, max_value, step_value)  if step_value > 0 else 100\n",
    "    \n",
    "    ## contour fill\n",
    "    plt.contourf(xx, yy, data, contour_levels, cmap=cmap, vmin=min_value, vmax=max_value)\n",
    "    \n",
    "    plt.grid()\n",
    "#     plt.colorbar(colormesh,extend='both')\n",
    "#    plt.colorbar(extend='both')\n",
    "    plt.colorbar()\n",
    "    \n",
    "    # Get the timestep\n",
    "    timestep = np.datetime_as_string(data.time,'h')\n",
    "    \n",
    "    var_str = \"{} [{}]\".format(title_sel, title_uni)\n",
    "    title = ' - '.join((var_str, timestep))\n",
    "\n",
    "    plt.title(title, **title_fontstyle)\n",
    "    plt.xlabel(xlabel, **label_fontstyle)\n",
    "    plt.ylabel(ylabel, **label_fontstyle)\n",
    "    \n",
    "    \n",
    "    ### --- PLOT 2 ---###\n",
    "    fig.add_subplot(1, 2, 2)\n",
    "    idx = 1\n",
    "    data = data_plot[idx]\n",
    "    min_value = minmaxvalues[idx]['min']\n",
    "    max_values = minmaxvalues[idx]['max']\n",
    "    \n",
    "    # set variable limits\n",
    "    min_value = data.min() if min_value is None else min_value\n",
    "    max_value = data.max() if max_value is None else max_value\n",
    "    \n",
    "    contour_levels = np.arange(min_value, max_value, step_value)  if step_value > 0 else 100\n",
    "    \n",
    "    ## contour fill\n",
    "    plt.contourf(xx, yy, data, contour_levels, cmap=cmap, vmin=min_value, vmax=max_value)\n",
    "    \n",
    "    plt.grid()\n",
    "#     plt.colorbar(colormesh,extend='both')\n",
    "#    plt.colorbar(extend='both')\n",
    "    plt.colorbar()\n",
    "        \n",
    "    # Get the timestep\n",
    "    timestep = np.datetime_as_string(data.time,'h')\n",
    "    var_str = \"{} [{}]\".format(title_sel, title_uni)\n",
    "    title = ' - '.join((var_str, timestep))\n",
    "\n",
    "    plt.title(title, **title_fontstyle)\n",
    "    plt.xlabel(xlabel, **label_fontstyle)\n",
    "    plt.ylabel(ylabel, **label_fontstyle)\n",
    "\n",
    "    # output file\n",
    "    output_file = os.path.join(out_path,title.replace(' ','_')) + \".png\"\n",
    "\n",
    "    # save the output file\n",
    "    plt.savefig(output_file)\n",
    "\n",
    "    plt.show()\n",
    "\n",
    "    plt.close()"
   ]
  },
  {
   "cell_type": "markdown",
   "metadata": {},
   "source": [
    "#### Select and plot the dataset for temperature in winter and summer"
   ]
  },
  {
   "cell_type": "code",
   "execution_count": null,
   "metadata": {},
   "outputs": [],
   "source": [
    "data = TEM\n",
    "\n",
    "title = {\"name\":\"Temperature\",\"units\":\"degC\"}\n",
    "\n",
    "# plot the transect\n",
    "plot_transect(data, [{ \"min\": None, \"max\": None},{ \"min\": None, \"max\": None}], 0, title, lats_sel, depths_sel)"
   ]
  },
  {
   "cell_type": "markdown",
   "metadata": {},
   "source": [
    "#### Select and plot the dataset for salinity in winter and summer"
   ]
  },
  {
   "cell_type": "code",
   "execution_count": null,
   "metadata": {},
   "outputs": [],
   "source": [
    "data = SAL\n",
    "\n",
    "title = {\"name\":\"Salinity\",\"units\":\"PSU\"}\n",
    "\n",
    "# plot the transect\n",
    "plot_transect(data, [{ \"min\": None, \"max\": None},{ \"min\": None, \"max\": None}], 0, title, lats_sel, depths_sel)"
   ]
  },
  {
   "cell_type": "markdown",
   "metadata": {},
   "source": [
    "#### Select and plot the dataset for UO in winter and summer"
   ]
  },
  {
   "cell_type": "markdown",
   "metadata": {},
   "source": [
    "\n",
    "Seasonal changes in temperature and salinity are large. In the following, we will also have a look at the zonal current and its vertical structure. What is happening at the equator? \n"
   ]
  },
  {
   "cell_type": "code",
   "execution_count": null,
   "metadata": {},
   "outputs": [],
   "source": [
    "data = UO\n",
    "\n",
    "title = {\"name\":\"Velocity\",\"units\":\"m per s\"}\n",
    "\n",
    "# plot the transect\n",
    "plot_transect(data, [{ \"min\": -1., \"max\": 1.},{ \"min\": -1., \"max\": 1.}], 0, title, lats_sel, depths_sel)"
   ]
  },
  {
   "cell_type": "markdown",
   "metadata": {},
   "source": [
    "### 3.3.4. Density and MLD comparison\n",
    "[Go back to the \"Table of contents\"](#Table-of-contents)"
   ]
  },
  {
   "cell_type": "code",
   "execution_count": null,
   "metadata": {},
   "outputs": [],
   "source": [
    "def plot_density(plot_data, data, MLD, title, lats_sel, depths_sel):\n",
    "    # def plot_transect2(data, min_value, max_value, step_value):\n",
    "    fig = plt.figure(figsize=(width_inch, height_inch))\n",
    "\n",
    "    # Get the timestep\n",
    "    timestep = np.datetime_as_string(data.time,'h')\n",
    "\n",
    "    # Create the meshgrid for the plot \n",
    "    yy, zz = np.meshgrid(lats_sel, depths_sel)\n",
    "\n",
    "    ## contour fill\n",
    "    plt.contourf(yy, zz, plot_data, contour_levels, cmap=cmap)\n",
    "\n",
    "    plt.grid()\n",
    "    plt.colorbar(extend='both')\n",
    "\n",
    "    title_sel = title['name']\n",
    "    var_str = \"{} [{}]\".format(title_sel, title['units'])\n",
    "    title = ' - '.join((var_str, timestep))\n",
    "\n",
    "    plt.title(title, **title_fontstyle)\n",
    "    plt.xlabel(xlabel, **label_fontstyle)\n",
    "    plt.ylabel(ylabel, **label_fontstyle)\n",
    "\n",
    "    plt.plot(yy[0,:],-MLD, linewidth=2, color='black', label=\"MLD\")\n",
    "    plt.legend()\n",
    "    \n",
    "    # output file\n",
    "    output_file = os.path.join(out_path, \"_\".join((title_sel, timestep)) + \".png\")\n",
    "\n",
    "    # save the output file\n",
    "    plt.savefig(output_file)\n",
    "\n",
    "    plt.show()\n",
    "\n",
    "    plt.close()"
   ]
  },
  {
   "cell_type": "code",
   "execution_count": null,
   "metadata": {},
   "outputs": [],
   "source": [
    "j = 0\n",
    "# Calculate density\n",
    "rho = density.sigma0(SAL[j],TEM[j])\n",
    "\n",
    "data = TEM[j]\n",
    "plot_data = rho\n",
    "\n",
    "title = {\"name\":\"Density\",\"units\":\"kg/m^3\"}\n",
    "\n",
    "plot_density(plot_data, data, MLD[j], title, lats_sel, depths_sel)"
   ]
  },
  {
   "cell_type": "code",
   "execution_count": null,
   "metadata": {},
   "outputs": [],
   "source": [
    "j = 1\n",
    "# Calculate density\n",
    "rho = density.sigma0(SAL[j],TEM[j])\n",
    "\n",
    "data = TEM[j]\n",
    "plot_data = rho\n",
    "\n",
    "title = {\"name\":\"Density\",\"units\":\"kg/m^3\"}\n",
    "\n",
    "plot_density(plot_data, data, MLD[j], title, lats_sel, depths_sel)"
   ]
  },
  {
   "cell_type": "markdown",
   "metadata": {},
   "source": [
    "Here you have seen the impact of the season and of the ocean circulation changes on the physical properties of the marine water at different latitudes, and the corresponding change in the mixed layer depth too. \n",
    "\n",
    "This confirms what you have seen in the maps of previous exercise."
   ]
  },
  {
   "cell_type": "markdown",
   "metadata": {},
   "source": [
    "[Go back to the \"Table of contents\"](#Table-of-contents)"
   ]
  },
  {
   "cell_type": "markdown",
   "metadata": {},
   "source": [
    "***"
   ]
  },
  {
   "cell_type": "markdown",
   "metadata": {},
   "source": [
    "# 4. Conclusion"
   ]
  },
  {
   "cell_type": "markdown",
   "metadata": {},
   "source": [
    "<div class=\"alert alert-block alert-success\">\n",
    "    <b>CONGRATULATIONS</b><br>\n",
    "  \n",
    "--- \n",
    "\n",
    "#### Now you know how to plot the Global physical model provided by Copernicus Marine Service, for free, thanks to the European Commission.\n",
    "\n",
    "#### To go further, you can try to visualize other variables and diagnostics (spatial or vertical averages, standard deviations...)\n",
    "\n",
    "#### Hope you have enjoyed this session and let's do great science with our data.\n",
    "\n",
    "This training course is over but we'd love to hear from you about how we could improve it (topics, tools, storytelling, format, speed etc). "
   ]
  },
  {
   "cell_type": "markdown",
   "metadata": {},
   "source": [
    "[Go back to the \"Table of contents\"](#Table-of-contents)"
   ]
  }
 ],
 "metadata": {
  "finalized": {
   "timestamp": 1575910772531,
   "trusted": true
  },
  "kernelspec": {
   "display_name": "Python 3",
   "language": "python",
   "name": "python3"
  },
  "language_info": {
   "codemirror_mode": {
    "name": "ipython",
    "version": 3
   },
   "file_extension": ".py",
   "mimetype": "text/x-python",
   "name": "python",
   "nbconvert_exporter": "python",
   "pygments_lexer": "ipython3",
   "version": "3.8.3"
  }
 },
 "nbformat": 4,
 "nbformat_minor": 4
}
